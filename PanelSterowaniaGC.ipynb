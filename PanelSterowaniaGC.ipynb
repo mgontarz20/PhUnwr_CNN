{
  "nbformat": 4,
  "nbformat_minor": 0,
  "metadata": {
    "colab": {
      "name": "PanelSterowaniaGC.ipynb",
      "provenance": [],
      "collapsed_sections": [],
      "mount_file_id": "https://gist.github.com/mgontarz20/2bb47ef762246b9ccadc208ec73dc1f5#file-panelsterowaniagc-ipynb",
      "authorship_tag": "ABX9TyPB1YpJWNGm014efhIwNkdU",
      "include_colab_link": true
    },
    "kernelspec": {
      "name": "python3",
      "display_name": "Python 3"
    },
    "language_info": {
      "name": "python"
    },
    "accelerator": "GPU"
  },
  "cells": [
    {
      "cell_type": "markdown",
      "metadata": {
        "id": "view-in-github",
        "colab_type": "text"
      },
      "source": [
        "<a href=\"https://colab.research.google.com/github/mgontarz20/PhUnwr_CNN/blob/main/PanelSterowaniaGC.ipynb\" target=\"_parent\"><img src=\"https://colab.research.google.com/assets/colab-badge.svg\" alt=\"Open In Colab\"/></a>"
      ]
    },
    {
      "cell_type": "markdown",
      "metadata": {
        "id": "gPD8zIwh3rl9"
      },
      "source": [
        "# Library Imports\n"
      ]
    },
    {
      "cell_type": "code",
      "metadata": {
        "id": "gNHDQWfK3xvG"
      },
      "source": [
        "import sys\n",
        "sys.path.append('/content/drive/MyDrive/BadaniaMchtr')\n",
        "import numpy as np\n",
        "import os\n",
        "import tqdm\n",
        "from tqdm import tqdm\n",
        "from keras.losses import MeanSquaredError, SparseCategoricalCrossentropy\n",
        "from tensorflow.keras.utils import to_categorical\n",
        "from keras.utils.vis_utils import plot_model\n",
        "from keras.preprocessing.image import img_to_array, load_img\n",
        "from skimage.transform import resize\n",
        "from keras.metrics import SparseCategoricalAccuracy\n",
        "from sklearn.model_selection import train_test_split\n",
        "from keras.layers import Input\n",
        "from tensorflow.keras.optimizers import Adam\n",
        "from keras.callbacks import ModelCheckpoint, EarlyStopping, ReduceLROnPlateau, TensorBoard,CSVLogger,LambdaCallback\n",
        "import matplotlib.pyplot as plt\n",
        "from tensorflow import keras\n",
        "from datetime import datetime\n",
        "from keras.models import load_model\n",
        "from keras import backend as K\n",
        "import tensorflow as tf\n",
        "import json\n"
      ],
      "execution_count": 1,
      "outputs": []
    },
    {
      "cell_type": "markdown",
      "metadata": {
        "id": "Vi6UNaVE3qjk"
      },
      "source": [
        "#User Imports"
      ]
    },
    {
      "cell_type": "code",
      "metadata": {
        "id": "c_ZJYDAn32cm"
      },
      "source": [
        "import genConfig\n",
        "import plotter\n",
        "import UNetResNet_5lvl_softmax_withDropout\n",
        "import cleanup"
      ],
      "execution_count": 2,
      "outputs": []
    },
    {
      "cell_type": "markdown",
      "metadata": {
        "id": "uQU1P43a38mS"
      },
      "source": [
        "# Definition of hyperparameters"
      ]
    },
    {
      "cell_type": "code",
      "metadata": {
        "id": "2f0z9tLM4CdM"
      },
      "source": [
        "test_size = 0.2\n",
        "random_state = 68\n",
        "n_filters = 4\n",
        "stop_patience = 13\n",
        "batch_size = 16\n",
        "epoch_limit = 200\n",
        "norm = True\n",
        "coeff = 1.0\n",
        "if norm:\n",
        "    coeff = (2* np.pi)\n",
        "activation_function = 'relu'\n",
        "state = 'new'\n",
        "kernel_regularizer = None\n",
        "cont = True\n",
        "if cont:\n",
        "  state = \"continued\""
      ],
      "execution_count": 3,
      "outputs": []
    },
    {
      "cell_type": "markdown",
      "metadata": {
        "id": "qOUKqSY44I4D"
      },
      "source": [
        "#Name definition\n",
        "\n"
      ]
    },
    {
      "cell_type": "code",
      "metadata": {
        "id": "mJiQJekx4LCN"
      },
      "source": [
        "date = datetime.now().strftime(\"%m-%d-%Y_%H-%M-%S\")\n",
        "root = '/content/drive/MyDrive/BadaniaMchtr/'\n",
        "pathtoDataSet = f\"{root}Datasets/\"\n",
        "dataset = \"dataset7_10k_notrandresc\"\n",
        "type1 = \"resc_wrpd\"\n",
        "type2 = \"wrpd_count\"\n",
        "comment = \"SOFTMAX_WrapCount_Regularization_\"\n"
      ],
      "execution_count": 4,
      "outputs": []
    },
    {
      "cell_type": "markdown",
      "metadata": {
        "id": "qD8px2aI42vM"
      },
      "source": [
        "#Importing Images"
      ]
    },
    {
      "cell_type": "code",
      "metadata": {
        "id": "rUBnSaBRZZTY",
        "colab": {
          "base_uri": "https://localhost:8080/"
        },
        "outputId": "eefb308b-df8d-4b1d-e194-2cb70d0a2255"
      },
      "source": [
        "y = np.load(f\"{root}Datasets/w_{dataset}.npy\").astype(np.uint8)\n",
        "num_classes = int((np.amax(y) - np.amin(y)) +1)\n",
        "print(num_classes)\n",
        "X = np.load(f\"{root}Datasets/X_{dataset}.npy\")/coeff\n",
        "print(X.shape, y.shape)\n",
        "print(X.dtype, y.dtype)\n",
        "if not kernel_regularizer:\n",
        "  kernel_regularizer = \"\"\n",
        "name = f\"UNetResNet5_{type1}_{date}_{comment}_{str(num_classes)}_{kernel_regularizer}_norm{norm}_{state}\"\n"
      ],
      "execution_count": 5,
      "outputs": [
        {
          "output_type": "stream",
          "name": "stdout",
          "text": [
            "12\n",
            "(10000, 256, 256, 1) (10000, 256, 256, 1)\n",
            "float32 uint8\n"
          ]
        }
      ]
    },
    {
      "cell_type": "code",
      "metadata": {
        "id": "wYaNW1NkQCt-"
      },
      "source": [
        ""
      ],
      "execution_count": null,
      "outputs": []
    },
    {
      "cell_type": "code",
      "metadata": {
        "id": "Axq9IlIA497E"
      },
      "source": [
        ""
      ],
      "execution_count": null,
      "outputs": []
    },
    {
      "cell_type": "markdown",
      "metadata": {
        "id": "WMeBrbF_5FEK"
      },
      "source": [
        "# Custom Functions (Callbacks, Loss)"
      ]
    },
    {
      "cell_type": "code",
      "metadata": {
        "id": "w0k1FAKY5Q1G"
      },
      "source": [
        ""
      ],
      "execution_count": null,
      "outputs": []
    },
    {
      "cell_type": "code",
      "metadata": {
        "id": "dIHo3Mbi5Opr"
      },
      "source": [
        "callbacks = [\n",
        "    EarlyStopping(patience=stop_patience, verbose=1),\n",
        "    ReduceLROnPlateau(factor=0.1, patience=3, min_lr=0.0000001, verbose=1),\n",
        "    ModelCheckpoint(f'{root}Results/{name}/model/{name}.h5', verbose=1, save_best_only=True),\n",
        "    #Tensordash(ModelName=f\"{name}\", email='mgontarz15@gmail.com', password='dupadupa'),\n",
        "    TensorBoard(log_dir=f\"{root}Results/{name}/logs\", write_graph=True, write_images= True, update_freq=5),\n",
        "    CSVLogger(f\"{root}Results/{name}/csv/{name}.csv\"),\n",
        "    #json_logging_callback,\n",
        "            ]"
      ],
      "execution_count": null,
      "outputs": []
    },
    {
      "cell_type": "markdown",
      "metadata": {
        "id": "2FOZ67GT4ZeA"
      },
      "source": [
        "# Path Definition\n",
        "# Folder Generation"
      ]
    },
    {
      "cell_type": "code",
      "metadata": {
        "id": "pBL4_0_l4fDV",
        "colab": {
          "base_uri": "https://localhost:8080/"
        },
        "outputId": "e70ec30e-b3cc-4d21-99a7-8f26636fdde8"
      },
      "source": [
        "\n",
        "cleanup.clearEmptyDirectories(\"/content/drive/MyDrive/BadaniaMchtr/Results\")\n",
        "os.makedirs(f'{root}Results/{name}', exist_ok=True)\n",
        "os.makedirs(f'{root}Results/{name}/model', exist_ok=True)\n",
        "os.makedirs(f'{root}Results/{name}/cfg', exist_ok=True)\n",
        "os.makedirs(f'{root}Results/{name}/csv', exist_ok=True)\n",
        "os.makedirs(f'{root}Results/{name}/logs', exist_ok=True)\n",
        "cfg_dir = f'{root}Results/{name}/cfg'\n",
        "\n",
        "genConfig.write_cfg(cfg_dir, name, 'w', type_input = type1, type_output= type2, dataset = dataset, classes = num_classes, norm = norm)\n",
        "\n",
        "del type1\n",
        "del type2\n",
        "del dataset\n",
        "\n",
        "metrics = ['accuracy']"
      ],
      "execution_count": 6,
      "outputs": [
        {
          "output_type": "stream",
          "name": "stdout",
          "text": [
            "Cleaning up results directory\n",
            "\n",
            "No folders removed!\n"
          ]
        }
      ]
    },
    {
      "cell_type": "markdown",
      "metadata": {
        "id": "rxPWeH5X5dIp"
      },
      "source": [
        "# Train Test Splitting\n"
      ]
    },
    {
      "cell_type": "code",
      "metadata": {
        "id": "XOvcK16V5fEf"
      },
      "source": [
        "X_train, X_valid, y_train, y_valid = train_test_split(X, y, test_size=test_size, random_state=random_state)\n",
        "print(X_train.shape, X_valid.shape, y_train.shape, y_valid.shape)\n",
        "del X\n",
        "del y"
      ],
      "execution_count": null,
      "outputs": []
    },
    {
      "cell_type": "code",
      "metadata": {
        "id": "a3uQuk5k5i2M"
      },
      "source": [
        "genConfig.write_cfg(cfg_dir, name, \"a\", test_size = test_size, random_state = random_state)\n",
        "del test_size\n",
        "del random_state"
      ],
      "execution_count": null,
      "outputs": []
    },
    {
      "cell_type": "markdown",
      "metadata": {
        "id": "X-vmgtPj5lQj"
      },
      "source": [
        "#Model Loading and Initialization"
      ]
    },
    {
      "cell_type": "code",
      "metadata": {
        "id": "vfjkcFwi5oDf"
      },
      "source": [
        "input_img = Input((256, 256, 1), name='img')\n",
        "#model = UNetResNet_5lvl_softmax_withReg.get_unet(input_img, num_classes, kernel_regularizer = kernel_regularizer)\n",
        "#model = load_model(\"/content/drive/MyDrive/BadaniaMchtr/Results/UNetResNet5_resc_wrpd_11-20-2021_15-12-28_SOFTMAX_WrapCount_Regularization_12/model/UNetResNet5_resc_wrpd_11-20-2021_15-12-28_SOFTMAX_WrapCount_Regularization_12.h5\")\n",
        "model.compile(optimizer=Adam(learning_rate=0.0001, epsilon=1e-07), loss=SparseCategoricalCrossentropy(),  metrics=metrics)\n",
        "model.summary()"
      ],
      "execution_count": null,
      "outputs": []
    },
    {
      "cell_type": "code",
      "metadata": {
        "id": "YO4fl63B5wwv"
      },
      "source": [
        "genConfig.write_cfg(cfg_dir,name, 'a', optimizer = \"Adam\", loss = comment, metrics = metrics, state = state, n_filters = n_filters)\n",
        "del n_filters\n",
        "del state\n"
      ],
      "execution_count": null,
      "outputs": []
    },
    {
      "cell_type": "markdown",
      "metadata": {
        "id": "KtJajT8U51Cb"
      },
      "source": [
        "#Model Fitting"
      ]
    },
    {
      "cell_type": "code",
      "metadata": {
        "id": "oY7mXctB53bG"
      },
      "source": [
        "start = datetime.now()\n",
        "results = model.fit(X_train, y_train, batch_size=batch_size, epochs=epoch_limit, callbacks=callbacks,\n",
        "                     validation_data=(X_valid, y_valid))\n",
        "\n",
        "stop = datetime.now()\n",
        "\n"
      ],
      "execution_count": null,
      "outputs": []
    },
    {
      "cell_type": "code",
      "metadata": {
        "id": "kaTS-Phl57JH"
      },
      "source": [
        "time = stop - start\n",
        "del stop\n",
        "del start"
      ],
      "execution_count": null,
      "outputs": []
    },
    {
      "cell_type": "code",
      "metadata": {
        "id": "fCiJUFED576J"
      },
      "source": [
        "genConfig.write_cfg(cfg_dir,name, \"a\", batch_size = batch_size, epoch_limit = epoch_limit, time = time, activation_function = activation_function)\n",
        "del epoch_limit\n",
        "del time"
      ],
      "execution_count": null,
      "outputs": []
    },
    {
      "cell_type": "markdown",
      "metadata": {
        "id": "8xBhPseU5_pP"
      },
      "source": [
        "#Plotting Results"
      ]
    },
    {
      "cell_type": "code",
      "metadata": {
        "id": "54rgm4sQ6B_0"
      },
      "source": [
        ""
      ],
      "execution_count": null,
      "outputs": []
    },
    {
      "cell_type": "code",
      "metadata": {
        "id": "IKlMp4fP6DvJ"
      },
      "source": [
        "plotter.plot_model_data(model, name, results, root)\n",
        "genConfig.write_cfg(cfg_dir,name, \"a\",  best_loss = np.min(results.history[\"val_loss\"]), for_epoch_loss = np.argmin(results.history[\"val_loss\"]), best_acc = np.max(results.history[\"val_accuracy\"]), for_epoch_acc = np.argmax(results.history[\"val_accuracy\"]))\n",
        "del results"
      ],
      "execution_count": null,
      "outputs": []
    },
    {
      "cell_type": "markdown",
      "metadata": {
        "id": "8aTb-t6i6GUQ"
      },
      "source": [
        "#Model Evaluation"
      ]
    },
    {
      "cell_type": "code",
      "metadata": {
        "id": "bmKoDryz6Iio"
      },
      "source": [
        "score = model.evaluate(X_train, y_train,\n",
        "                            batch_size=batch_size)\n",
        "labels = model.metrics_names\n",
        "\n",
        "header_train  = \"\\n-------TRAIN EVALUATION-------\"\n",
        "loss_list = []\n",
        "\n",
        "\n",
        "for i, loss in enumerate(labels):\n",
        "    loss_list.append(f\"| {loss} : {score[i]} |\")\n",
        "\n",
        "genConfig.write_cfg(cfg_dir,name, \"a\", _ = header_train, TRAIN_EVAL = \"\".join(loss_list))\n",
        "\n",
        "loss_list.clear()"
      ],
      "execution_count": null,
      "outputs": []
    },
    {
      "cell_type": "code",
      "metadata": {
        "id": "JUTlvV476MWx"
      },
      "source": [
        "score= model.evaluate(X_valid, y_valid,\n",
        "                            batch_size=batch_size)\n",
        "\n",
        "header_test = \"\\n-------TEST EVALUATION-------\"\n",
        "\n",
        "for i, loss in enumerate(labels):\n",
        "    loss_list.append(f\"| {loss} : {score[i]} |\")\n",
        "\n",
        "genConfig.write_cfg(cfg_dir,name, \"a\", _ = header_test, TEST_EVAL = \"\".join(loss_list))\n",
        "\n",
        "\n",
        "del score\n",
        "\n",
        "del header_test\n",
        "#del header_train\n",
        "\n",
        "#del labels"
      ],
      "execution_count": null,
      "outputs": []
    },
    {
      "cell_type": "code",
      "metadata": {
        "id": "d7gQ9g696PpS"
      },
      "source": [
        ""
      ],
      "execution_count": null,
      "outputs": []
    },
    {
      "cell_type": "code",
      "metadata": {
        "id": "axl_aAmXFmIn"
      },
      "source": [
        "!apt-get install rar"
      ],
      "execution_count": null,
      "outputs": []
    },
    {
      "cell_type": "code",
      "metadata": {
        "id": "UkBX7_-KplhS"
      },
      "source": [
        "# name = \"UNetResNet5lvl_resc_wrpd_10-14-2021_22-11-02_SSIMloss\"\n",
        "# !rar a '/content/drive/MyDrive/UNetResNet5_resc_wrpd_11-13-2021_16-31-46_SOFTMAX_WrapCount_Results' '/content/drive/MyDrive/BadaniaMchtr/Results/UNetResNet5_resc_wrpd_11-13-2021_16-31-46_SOFTMAX_WrapCount'\n",
        "# from google.colab import files\n",
        "# files.download(\"/content/drive/MyDrive/UNetResNet5_resc_wrpd_11-13-2021_16-31-46_SOFTMAX_WrapCount_Results.rar\")\n"
      ],
      "execution_count": null,
      "outputs": []
    },
    {
      "cell_type": "code",
      "metadata": {
        "id": "tX3CACHIvv1L"
      },
      "source": [
        ""
      ],
      "execution_count": null,
      "outputs": []
    },
    {
      "cell_type": "code",
      "metadata": {
        "id": "Twx05D5Qvy8E"
      },
      "source": [
        ""
      ],
      "execution_count": null,
      "outputs": []
    }
  ]
}