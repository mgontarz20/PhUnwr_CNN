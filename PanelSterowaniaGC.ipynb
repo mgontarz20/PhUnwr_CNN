{
  "nbformat": 4,
  "nbformat_minor": 0,
  "metadata": {
    "colab": {
      "name": "PanelSterowaniaGC.ipynb",
      "provenance": [],
      "collapsed_sections": [],
      "mount_file_id": "https://gist.github.com/mgontarz20/2bb47ef762246b9ccadc208ec73dc1f5#file-panelsterowaniagc-ipynb",
      "authorship_tag": "ABX9TyOjzKBBcKGeIj5kdRFNvzOt",
      "include_colab_link": true
    },
    "kernelspec": {
      "name": "python3",
      "display_name": "Python 3"
    },
    "language_info": {
      "name": "python"
    },
    "accelerator": "GPU"
  },
  "cells": [
    {
      "cell_type": "markdown",
      "metadata": {
        "id": "view-in-github",
        "colab_type": "text"
      },
      "source": [
        "<a href=\"https://colab.research.google.com/github/mgontarz20/PhUnwr_CNN/blob/master/PanelSterowaniaGC.ipynb\" target=\"_parent\"><img src=\"https://colab.research.google.com/assets/colab-badge.svg\" alt=\"Open In Colab\"/></a>"
      ]
    },
    {
      "cell_type": "markdown",
      "metadata": {
        "id": "gPD8zIwh3rl9"
      },
      "source": [
        "# Library Imports\n"
      ]
    },
    {
      "cell_type": "code",
      "metadata": {
        "id": "gNHDQWfK3xvG"
      },
      "source": [
        "import sys\n",
        "sys.path.append('/content/drive/MyDrive/BadaniaMchtr')\n",
        "import numpy as np\n",
        "import os\n",
        "import tqdm\n",
        "from tqdm import tqdm\n",
        "from keras.losses import MeanSquaredError, SparseCategoricalCrossentropy\n",
        "from keras.utils.vis_utils import plot_model\n",
        "from keras.preprocessing.image import img_to_array, load_img\n",
        "from skimage.transform import resize\n",
        "from sklearn.model_selection import train_test_split\n",
        "from keras.layers import Input\n",
        "from tensorflow.keras.optimizers import Adam\n",
        "from keras.callbacks import ModelCheckpoint, EarlyStopping, ReduceLROnPlateau, TensorBoard,CSVLogger,LambdaCallback\n",
        "import matplotlib.pyplot as plt\n",
        "import tensorflow as tf\n",
        "from tensorflow import keras\n",
        "from datetime import datetime\n",
        "from keras.models import load_model\n",
        "from keras import backend as K\n",
        "import json\n"
      ],
      "execution_count": null,
      "outputs": []
    },
    {
      "cell_type": "markdown",
      "metadata": {
        "id": "Vi6UNaVE3qjk"
      },
      "source": [
        "#User Imports"
      ]
    },
    {
      "cell_type": "code",
      "metadata": {
        "id": "c_ZJYDAn32cm"
      },
      "source": [
        "import genConfig\n",
        "import plotter\n",
        "import UNetResNet_5lvl_softmax_withReg\n",
        "import cleanup"
      ],
      "execution_count": null,
      "outputs": []
    },
    {
      "cell_type": "markdown",
      "metadata": {
        "id": "uQU1P43a38mS"
      },
      "source": [
        "# Definition of hyperparameters"
      ]
    },
    {
      "cell_type": "code",
      "metadata": {
        "id": "2f0z9tLM4CdM"
      },
      "source": [
        "test_size = 0.2\n",
        "random_state = 2\n",
        "n_filters = 4\n",
        "stop_patience = 8\n",
        "batch_size = 8\n",
        "epoch_limit = 200\n",
        "norm = False\n",
        "coeff = 1.0\n",
        "if norm:\n",
        "    coeff = 255.0\n",
        "activation_function = 'relu'\n",
        "state = 'new'\n",
        "metrics = ['accuracy']"
      ],
      "execution_count": null,
      "outputs": []
    },
    {
      "cell_type": "markdown",
      "metadata": {
        "id": "qOUKqSY44I4D"
      },
      "source": [
        "#Name definition\n",
        "\n"
      ]
    },
    {
      "cell_type": "code",
      "metadata": {
        "id": "mJiQJekx4LCN"
      },
      "source": [
        "date = datetime.now().strftime(\"%m-%d-%Y_%H-%M-%S\")\n",
        "root = '/content/drive/MyDrive/BadaniaMchtr/'\n",
        "pathtoDataSet = f\"{root}Datasets/\"\n",
        "dataset = \"dataset7_10k_notrandresc\"\n",
        "type1 = \"resc_wrpd\"\n",
        "type2 = \"wrpd_count\"\n",
        "comment = \"SOFTMAX_WrapCount_Regularization\"\n"
      ],
      "execution_count": null,
      "outputs": []
    },
    {
      "cell_type": "markdown",
      "metadata": {
        "id": "WMeBrbF_5FEK"
      },
      "source": [
        "# Custom Functions (Callbacks, Loss)"
      ]
    },
    {
      "cell_type": "code",
      "metadata": {
        "id": "w0k1FAKY5Q1G"
      },
      "source": [
        "def DiceLoss(targets, inputs, smooth=1e-6):\n",
        "    \n",
        "    #flatten label and prediction tensors\n",
        "    inputs = K.flatten(inputs)\n",
        "    targets = K.flatten(targets)\n",
        "    \n",
        "    intersection = K.sum(K.dot(targets, inputs))\n",
        "    dice = (2*intersection + smooth) / (K.sum(targets) + K.sum(inputs) + smooth)\n",
        "    return 1 - dice\n",
        "\n",
        "def IoULoss(targets, inputs, smooth=1e-6):\n",
        "    \n",
        "    #flatten label and prediction tensors\n",
        "    inputs = K.flatten(inputs)\n",
        "    targets = K.flatten(targets)\n",
        "    \n",
        "    intersection = K.sum(K.dot(targets, inputs))\n",
        "    total = K.sum(targets) + K.sum(inputs)\n",
        "    union = total - intersection\n",
        "    \n",
        "    IoU = (intersection + smooth) / (union + smooth)\n",
        "    return 1 - IoU\n",
        "  \n",
        "def mean_squared_error(y_true, y_pred):\n",
        "    return K.mean(K.square(y_pred - y_true), axis=-1)\n",
        "\n",
        "def SSIMLoss(y_true, y_pred):\n",
        "  return tf.reduce_mean(tf.image.ssim(y_true, y_pred, 255.0))\n",
        "\n",
        "def SSIM_MSE(y_true, y_pred):\n",
        "  return mean_squared_error(y_true, y_pred)/SSIMLoss(y_true, y_pred)"
      ],
      "execution_count": null,
      "outputs": []
    },
    {
      "cell_type": "code",
      "metadata": {
        "id": "dIHo3Mbi5Opr"
      },
      "source": [
        "callbacks = [\n",
        "    EarlyStopping(patience=stop_patience, verbose=1),\n",
        "    ReduceLROnPlateau(factor=0.1, patience=5, min_lr=0.0000001, verbose=1),\n",
        "    ModelCheckpoint(f'{root}Results/{name}/model/{name}.h5', verbose=1, save_best_only=True),\n",
        "    #Tensordash(ModelName=f\"{name}\", email='mgontarz15@gmail.com', password='dupadupa'),\n",
        "    TensorBoard(log_dir=f\"{root}Results/{name}/logs\", write_graph=True, write_images= True, update_freq=5),\n",
        "    CSVLogger(f\"{root}Results/{name}/csv/{name}.csv\"),\n",
        "    #json_logging_callback,\n",
        "            ]"
      ],
      "execution_count": null,
      "outputs": []
    },
    {
      "cell_type": "markdown",
      "metadata": {
        "id": "qD8px2aI42vM"
      },
      "source": [
        "#Importing Images"
      ]
    },
    {
      "cell_type": "code",
      "metadata": {
        "id": "rUBnSaBRZZTY"
      },
      "source": [
        "X = np.load(f\"{root}Datasets/X_{dataset}.npy\")\n",
        "y = np.load(f\"{root}Datasets/w_{dataset}.npy\").astype(np.uint8)\n",
        "\n",
        "\n",
        "num_classes = int((np.amax(y) - np.amin(y)) +1)\n",
        "print(X.shape, y.shape)\n",
        "print(X.dtype, y.dtype)\n",
        "print(num_classes)\n",
        "name = f\"UNetResNet5_{type1}_{date}_{comment}_{str(num_classes)}\""
      ],
      "execution_count": null,
      "outputs": []
    },
    {
      "cell_type": "code",
      "metadata": {
        "id": "wYaNW1NkQCt-"
      },
      "source": [
        ""
      ],
      "execution_count": null,
      "outputs": []
    },
    {
      "cell_type": "code",
      "metadata": {
        "id": "Axq9IlIA497E"
      },
      "source": [
        "genConfig.write_cfg(cfg_dir, name, 'w', type_input = type1, type_output= type2, dataset = dataset, classes = num_classes)\n",
        "\n",
        "del type1\n",
        "del type2\n",
        "del dataset"
      ],
      "execution_count": null,
      "outputs": []
    },
    {
      "cell_type": "markdown",
      "metadata": {
        "id": "2FOZ67GT4ZeA"
      },
      "source": [
        "# Path Definition\n",
        "# Folder Generation"
      ]
    },
    {
      "cell_type": "code",
      "metadata": {
        "id": "pBL4_0_l4fDV",
        "colab": {
          "base_uri": "https://localhost:8080/"
        },
        "outputId": "e6e57da3-223e-44b8-f542-2bfd9c6eb7ad"
      },
      "source": [
        "\n",
        "cleanup.clearEmptyDirectories(\"/content/drive/MyDrive/BadaniaMchtr/Results\")\n",
        "os.makedirs(f'{root}Results/{name}', exist_ok=True)\n",
        "os.makedirs(f'{root}Results/{name}/model', exist_ok=True)\n",
        "os.makedirs(f'{root}Results/{name}/cfg', exist_ok=True)\n",
        "os.makedirs(f'{root}Results/{name}/csv', exist_ok=True)\n",
        "os.makedirs(f'{root}Results/{name}/logs', exist_ok=True)\n",
        "cfg_dir = f'{root}Results/{name}/cfg'"
      ],
      "execution_count": null,
      "outputs": [
        {
          "output_type": "stream",
          "name": "stdout",
          "text": [
            "Cleaning up results directory\n",
            "\n",
            "No folders removed!\n"
          ]
        }
      ]
    },
    {
      "cell_type": "markdown",
      "metadata": {
        "id": "rxPWeH5X5dIp"
      },
      "source": [
        "# Train Test Splitting\n"
      ]
    },
    {
      "cell_type": "code",
      "metadata": {
        "id": "XOvcK16V5fEf",
        "colab": {
          "base_uri": "https://localhost:8080/"
        },
        "outputId": "d43e92c3-5f23-42db-dc9b-a1330edc6dcd"
      },
      "source": [
        "X_train, X_valid, y_train, y_valid = train_test_split(X, y, test_size=test_size, random_state=random_state)\n",
        "print(X_train.shape, X_valid.shape, y_train.shape, y_valid.shape)\n",
        "del X\n",
        "del y"
      ],
      "execution_count": null,
      "outputs": [
        {
          "output_type": "stream",
          "name": "stdout",
          "text": [
            "(6400, 256, 256, 1) (1600, 256, 256, 1) (6400, 256, 256, 1) (1600, 256, 256, 1)\n"
          ]
        }
      ]
    },
    {
      "cell_type": "code",
      "metadata": {
        "id": "a3uQuk5k5i2M"
      },
      "source": [
        "genConfig.write_cfg(cfg_dir, name, \"a\", test_size = test_size, random_state = random_state)\n",
        "del test_size\n",
        "del random_state"
      ],
      "execution_count": null,
      "outputs": []
    },
    {
      "cell_type": "markdown",
      "metadata": {
        "id": "X-vmgtPj5lQj"
      },
      "source": [
        "#Model Loading and Initialization"
      ]
    },
    {
      "cell_type": "code",
      "metadata": {
        "id": "vfjkcFwi5oDf",
        "colab": {
          "base_uri": "https://localhost:8080/"
        },
        "outputId": "8b5fa9be-b1e1-43c0-9080-77a0c26626e5"
      },
      "source": [
        "input_img = Input((256, 256, 1), name='img')\n",
        "model = UNetResNet_5lvl_softmax_withReg.get_unet(input_img, num_classes, kernel_regularizer = 'l2')\n",
        "#model = load_model(\"/content/drive/MyDrive/BadaniaMchtr/Results/QPI_DPI_Net_resc_wrpd_11-02-2021_18-07-57_QPIDPI_MSE-SSIM/model/QPI_DPI_Net_resc_wrpd_11-02-2021_18-07-57_QPIDPI_MSE-SSIM.h5\")\n",
        "model.compile(optimizer=Adam(learning_rate=0.0001, epsilon=1e-07), loss=SparseCategoricalCrossentropy(),  metrics=metrics)\n",
        "model.summary()"
      ],
      "execution_count": null,
      "outputs": [
        {
          "output_type": "stream",
          "name": "stdout",
          "text": [
            "Model: \"model\"\n",
            "__________________________________________________________________________________________________\n",
            " Layer (type)                   Output Shape         Param #     Connected to                     \n",
            "==================================================================================================\n",
            " img (InputLayer)               [(None, 256, 256, 1  0           []                               \n",
            "                                )]                                                                \n",
            "                                                                                                  \n",
            " conv2d (Conv2D)                (None, 256, 256, 8)  80          ['img[0][0]']                    \n",
            "                                                                                                  \n",
            " batch_normalization (BatchNorm  (None, 256, 256, 8)  32         ['conv2d[0][0]']                 \n",
            " alization)                                                                                       \n",
            "                                                                                                  \n",
            " activation (Activation)        (None, 256, 256, 8)  0           ['batch_normalization[0][0]']    \n",
            "                                                                                                  \n",
            " conv2d_1 (Conv2D)              (None, 256, 256, 8)  584         ['activation[0][0]']             \n",
            "                                                                                                  \n",
            " batch_normalization_1 (BatchNo  (None, 256, 256, 8)  32         ['conv2d_1[0][0]']               \n",
            " rmalization)                                                                                     \n",
            "                                                                                                  \n",
            " activation_1 (Activation)      (None, 256, 256, 8)  0           ['batch_normalization_1[0][0]']  \n",
            "                                                                                                  \n",
            " conv2d_2 (Conv2D)              (None, 256, 256, 8)  584         ['activation_1[0][0]']           \n",
            "                                                                                                  \n",
            " batch_normalization_2 (BatchNo  (None, 256, 256, 8)  32         ['conv2d_2[0][0]']               \n",
            " rmalization)                                                                                     \n",
            "                                                                                                  \n",
            " activation_2 (Activation)      (None, 256, 256, 8)  0           ['batch_normalization_2[0][0]']  \n",
            "                                                                                                  \n",
            " add (Add)                      (None, 256, 256, 8)  0           ['activation[0][0]',             \n",
            "                                                                  'activation_2[0][0]']           \n",
            "                                                                                                  \n",
            " conv2d_3 (Conv2D)              (None, 256, 256, 8)  584         ['add[0][0]']                    \n",
            "                                                                                                  \n",
            " batch_normalization_3 (BatchNo  (None, 256, 256, 8)  32         ['conv2d_3[0][0]']               \n",
            " rmalization)                                                                                     \n",
            "                                                                                                  \n",
            " activation_3 (Activation)      (None, 256, 256, 8)  0           ['batch_normalization_3[0][0]']  \n",
            "                                                                                                  \n",
            " max_pooling2d (MaxPooling2D)   (None, 128, 128, 8)  0           ['activation_3[0][0]']           \n",
            "                                                                                                  \n",
            " conv2d_4 (Conv2D)              (None, 128, 128, 16  1168        ['max_pooling2d[0][0]']          \n",
            "                                )                                                                 \n",
            "                                                                                                  \n",
            " batch_normalization_4 (BatchNo  (None, 128, 128, 16  64         ['conv2d_4[0][0]']               \n",
            " rmalization)                   )                                                                 \n",
            "                                                                                                  \n",
            " activation_4 (Activation)      (None, 128, 128, 16  0           ['batch_normalization_4[0][0]']  \n",
            "                                )                                                                 \n",
            "                                                                                                  \n",
            " conv2d_5 (Conv2D)              (None, 128, 128, 16  2320        ['activation_4[0][0]']           \n",
            "                                )                                                                 \n",
            "                                                                                                  \n",
            " batch_normalization_5 (BatchNo  (None, 128, 128, 16  64         ['conv2d_5[0][0]']               \n",
            " rmalization)                   )                                                                 \n",
            "                                                                                                  \n",
            " activation_5 (Activation)      (None, 128, 128, 16  0           ['batch_normalization_5[0][0]']  \n",
            "                                )                                                                 \n",
            "                                                                                                  \n",
            " conv2d_6 (Conv2D)              (None, 128, 128, 16  2320        ['activation_5[0][0]']           \n",
            "                                )                                                                 \n",
            "                                                                                                  \n",
            " batch_normalization_6 (BatchNo  (None, 128, 128, 16  64         ['conv2d_6[0][0]']               \n",
            " rmalization)                   )                                                                 \n",
            "                                                                                                  \n",
            " activation_6 (Activation)      (None, 128, 128, 16  0           ['batch_normalization_6[0][0]']  \n",
            "                                )                                                                 \n",
            "                                                                                                  \n",
            " add_1 (Add)                    (None, 128, 128, 16  0           ['activation_4[0][0]',           \n",
            "                                )                                 'activation_6[0][0]']           \n",
            "                                                                                                  \n",
            " conv2d_7 (Conv2D)              (None, 128, 128, 16  2320        ['add_1[0][0]']                  \n",
            "                                )                                                                 \n",
            "                                                                                                  \n",
            " batch_normalization_7 (BatchNo  (None, 128, 128, 16  64         ['conv2d_7[0][0]']               \n",
            " rmalization)                   )                                                                 \n",
            "                                                                                                  \n",
            " activation_7 (Activation)      (None, 128, 128, 16  0           ['batch_normalization_7[0][0]']  \n",
            "                                )                                                                 \n",
            "                                                                                                  \n",
            " max_pooling2d_1 (MaxPooling2D)  (None, 64, 64, 16)  0           ['activation_7[0][0]']           \n",
            "                                                                                                  \n",
            " conv2d_8 (Conv2D)              (None, 64, 64, 32)   4640        ['max_pooling2d_1[0][0]']        \n",
            "                                                                                                  \n",
            " batch_normalization_8 (BatchNo  (None, 64, 64, 32)  128         ['conv2d_8[0][0]']               \n",
            " rmalization)                                                                                     \n",
            "                                                                                                  \n",
            " activation_8 (Activation)      (None, 64, 64, 32)   0           ['batch_normalization_8[0][0]']  \n",
            "                                                                                                  \n",
            " conv2d_9 (Conv2D)              (None, 64, 64, 32)   9248        ['activation_8[0][0]']           \n",
            "                                                                                                  \n",
            " batch_normalization_9 (BatchNo  (None, 64, 64, 32)  128         ['conv2d_9[0][0]']               \n",
            " rmalization)                                                                                     \n",
            "                                                                                                  \n",
            " activation_9 (Activation)      (None, 64, 64, 32)   0           ['batch_normalization_9[0][0]']  \n",
            "                                                                                                  \n",
            " conv2d_10 (Conv2D)             (None, 64, 64, 32)   9248        ['activation_9[0][0]']           \n",
            "                                                                                                  \n",
            " batch_normalization_10 (BatchN  (None, 64, 64, 32)  128         ['conv2d_10[0][0]']              \n",
            " ormalization)                                                                                    \n",
            "                                                                                                  \n",
            " activation_10 (Activation)     (None, 64, 64, 32)   0           ['batch_normalization_10[0][0]'] \n",
            "                                                                                                  \n",
            " add_2 (Add)                    (None, 64, 64, 32)   0           ['activation_8[0][0]',           \n",
            "                                                                  'activation_10[0][0]']          \n",
            "                                                                                                  \n",
            " conv2d_11 (Conv2D)             (None, 64, 64, 32)   9248        ['add_2[0][0]']                  \n",
            "                                                                                                  \n",
            " batch_normalization_11 (BatchN  (None, 64, 64, 32)  128         ['conv2d_11[0][0]']              \n",
            " ormalization)                                                                                    \n",
            "                                                                                                  \n",
            " activation_11 (Activation)     (None, 64, 64, 32)   0           ['batch_normalization_11[0][0]'] \n",
            "                                                                                                  \n",
            " max_pooling2d_2 (MaxPooling2D)  (None, 32, 32, 32)  0           ['activation_11[0][0]']          \n",
            "                                                                                                  \n",
            " conv2d_12 (Conv2D)             (None, 32, 32, 64)   18496       ['max_pooling2d_2[0][0]']        \n",
            "                                                                                                  \n",
            " batch_normalization_12 (BatchN  (None, 32, 32, 64)  256         ['conv2d_12[0][0]']              \n",
            " ormalization)                                                                                    \n",
            "                                                                                                  \n",
            " activation_12 (Activation)     (None, 32, 32, 64)   0           ['batch_normalization_12[0][0]'] \n",
            "                                                                                                  \n",
            " conv2d_13 (Conv2D)             (None, 32, 32, 64)   36928       ['activation_12[0][0]']          \n",
            "                                                                                                  \n",
            " batch_normalization_13 (BatchN  (None, 32, 32, 64)  256         ['conv2d_13[0][0]']              \n",
            " ormalization)                                                                                    \n",
            "                                                                                                  \n",
            " activation_13 (Activation)     (None, 32, 32, 64)   0           ['batch_normalization_13[0][0]'] \n",
            "                                                                                                  \n",
            " conv2d_14 (Conv2D)             (None, 32, 32, 64)   36928       ['activation_13[0][0]']          \n",
            "                                                                                                  \n",
            " batch_normalization_14 (BatchN  (None, 32, 32, 64)  256         ['conv2d_14[0][0]']              \n",
            " ormalization)                                                                                    \n",
            "                                                                                                  \n",
            " activation_14 (Activation)     (None, 32, 32, 64)   0           ['batch_normalization_14[0][0]'] \n",
            "                                                                                                  \n",
            " add_3 (Add)                    (None, 32, 32, 64)   0           ['activation_12[0][0]',          \n",
            "                                                                  'activation_14[0][0]']          \n",
            "                                                                                                  \n",
            " conv2d_15 (Conv2D)             (None, 32, 32, 64)   36928       ['add_3[0][0]']                  \n",
            "                                                                                                  \n",
            " batch_normalization_15 (BatchN  (None, 32, 32, 64)  256         ['conv2d_15[0][0]']              \n",
            " ormalization)                                                                                    \n",
            "                                                                                                  \n",
            " activation_15 (Activation)     (None, 32, 32, 64)   0           ['batch_normalization_15[0][0]'] \n",
            "                                                                                                  \n",
            " max_pooling2d_3 (MaxPooling2D)  (None, 16, 16, 64)  0           ['activation_15[0][0]']          \n",
            "                                                                                                  \n",
            " conv2d_16 (Conv2D)             (None, 16, 16, 128)  73856       ['max_pooling2d_3[0][0]']        \n",
            "                                                                                                  \n",
            " batch_normalization_16 (BatchN  (None, 16, 16, 128)  512        ['conv2d_16[0][0]']              \n",
            " ormalization)                                                                                    \n",
            "                                                                                                  \n",
            " activation_16 (Activation)     (None, 16, 16, 128)  0           ['batch_normalization_16[0][0]'] \n",
            "                                                                                                  \n",
            " conv2d_17 (Conv2D)             (None, 16, 16, 128)  147584      ['activation_16[0][0]']          \n",
            "                                                                                                  \n",
            " batch_normalization_17 (BatchN  (None, 16, 16, 128)  512        ['conv2d_17[0][0]']              \n",
            " ormalization)                                                                                    \n",
            "                                                                                                  \n",
            " activation_17 (Activation)     (None, 16, 16, 128)  0           ['batch_normalization_17[0][0]'] \n",
            "                                                                                                  \n",
            " conv2d_18 (Conv2D)             (None, 16, 16, 128)  147584      ['activation_17[0][0]']          \n",
            "                                                                                                  \n",
            " batch_normalization_18 (BatchN  (None, 16, 16, 128)  512        ['conv2d_18[0][0]']              \n",
            " ormalization)                                                                                    \n",
            "                                                                                                  \n",
            " activation_18 (Activation)     (None, 16, 16, 128)  0           ['batch_normalization_18[0][0]'] \n",
            "                                                                                                  \n",
            " add_4 (Add)                    (None, 16, 16, 128)  0           ['activation_16[0][0]',          \n",
            "                                                                  'activation_18[0][0]']          \n",
            "                                                                                                  \n",
            " conv2d_19 (Conv2D)             (None, 16, 16, 128)  147584      ['add_4[0][0]']                  \n",
            "                                                                                                  \n",
            " batch_normalization_19 (BatchN  (None, 16, 16, 128)  512        ['conv2d_19[0][0]']              \n",
            " ormalization)                                                                                    \n",
            "                                                                                                  \n",
            " activation_19 (Activation)     (None, 16, 16, 128)  0           ['batch_normalization_19[0][0]'] \n",
            "                                                                                                  \n",
            " max_pooling2d_4 (MaxPooling2D)  (None, 8, 8, 128)   0           ['activation_19[0][0]']          \n",
            "                                                                                                  \n",
            " conv2d_20 (Conv2D)             (None, 8, 8, 256)    295168      ['max_pooling2d_4[0][0]']        \n",
            "                                                                                                  \n",
            " batch_normalization_20 (BatchN  (None, 8, 8, 256)   1024        ['conv2d_20[0][0]']              \n",
            " ormalization)                                                                                    \n",
            "                                                                                                  \n",
            " activation_20 (Activation)     (None, 8, 8, 256)    0           ['batch_normalization_20[0][0]'] \n",
            "                                                                                                  \n",
            " conv2d_21 (Conv2D)             (None, 8, 8, 256)    590080      ['activation_20[0][0]']          \n",
            "                                                                                                  \n",
            " batch_normalization_21 (BatchN  (None, 8, 8, 256)   1024        ['conv2d_21[0][0]']              \n",
            " ormalization)                                                                                    \n",
            "                                                                                                  \n",
            " activation_21 (Activation)     (None, 8, 8, 256)    0           ['batch_normalization_21[0][0]'] \n",
            "                                                                                                  \n",
            " conv2d_22 (Conv2D)             (None, 8, 8, 256)    590080      ['activation_21[0][0]']          \n",
            "                                                                                                  \n",
            " batch_normalization_22 (BatchN  (None, 8, 8, 256)   1024        ['conv2d_22[0][0]']              \n",
            " ormalization)                                                                                    \n",
            "                                                                                                  \n",
            " activation_22 (Activation)     (None, 8, 8, 256)    0           ['batch_normalization_22[0][0]'] \n",
            "                                                                                                  \n",
            " add_5 (Add)                    (None, 8, 8, 256)    0           ['activation_20[0][0]',          \n",
            "                                                                  'activation_22[0][0]']          \n",
            "                                                                                                  \n",
            " conv2d_23 (Conv2D)             (None, 8, 8, 256)    590080      ['add_5[0][0]']                  \n",
            "                                                                                                  \n",
            " batch_normalization_23 (BatchN  (None, 8, 8, 256)   1024        ['conv2d_23[0][0]']              \n",
            " ormalization)                                                                                    \n",
            "                                                                                                  \n",
            " activation_23 (Activation)     (None, 8, 8, 256)    0           ['batch_normalization_23[0][0]'] \n",
            "                                                                                                  \n",
            " conv2d_transpose (Conv2DTransp  (None, 16, 16, 128)  295040     ['activation_23[0][0]']          \n",
            " ose)                                                                                             \n",
            "                                                                                                  \n",
            " concatenate (Concatenate)      (None, 16, 16, 256)  0           ['conv2d_transpose[0][0]',       \n",
            "                                                                  'activation_19[0][0]']          \n",
            "                                                                                                  \n",
            " conv2d_24 (Conv2D)             (None, 16, 16, 64)   147520      ['concatenate[0][0]']            \n",
            "                                                                                                  \n",
            " batch_normalization_24 (BatchN  (None, 16, 16, 64)  256         ['conv2d_24[0][0]']              \n",
            " ormalization)                                                                                    \n",
            "                                                                                                  \n",
            " activation_24 (Activation)     (None, 16, 16, 64)   0           ['batch_normalization_24[0][0]'] \n",
            "                                                                                                  \n",
            " conv2d_25 (Conv2D)             (None, 16, 16, 64)   36928       ['activation_24[0][0]']          \n",
            "                                                                                                  \n",
            " batch_normalization_25 (BatchN  (None, 16, 16, 64)  256         ['conv2d_25[0][0]']              \n",
            " ormalization)                                                                                    \n",
            "                                                                                                  \n",
            " activation_25 (Activation)     (None, 16, 16, 64)   0           ['batch_normalization_25[0][0]'] \n",
            "                                                                                                  \n",
            " conv2d_26 (Conv2D)             (None, 16, 16, 64)   36928       ['activation_25[0][0]']          \n",
            "                                                                                                  \n",
            " batch_normalization_26 (BatchN  (None, 16, 16, 64)  256         ['conv2d_26[0][0]']              \n",
            " ormalization)                                                                                    \n",
            "                                                                                                  \n",
            " activation_26 (Activation)     (None, 16, 16, 64)   0           ['batch_normalization_26[0][0]'] \n",
            "                                                                                                  \n",
            " add_6 (Add)                    (None, 16, 16, 64)   0           ['activation_24[0][0]',          \n",
            "                                                                  'activation_26[0][0]']          \n",
            "                                                                                                  \n",
            " conv2d_27 (Conv2D)             (None, 16, 16, 64)   36928       ['add_6[0][0]']                  \n",
            "                                                                                                  \n",
            " batch_normalization_27 (BatchN  (None, 16, 16, 64)  256         ['conv2d_27[0][0]']              \n",
            " ormalization)                                                                                    \n",
            "                                                                                                  \n",
            " activation_27 (Activation)     (None, 16, 16, 64)   0           ['batch_normalization_27[0][0]'] \n",
            "                                                                                                  \n",
            " conv2d_transpose_1 (Conv2DTran  (None, 32, 32, 64)  36928       ['activation_27[0][0]']          \n",
            " spose)                                                                                           \n",
            "                                                                                                  \n",
            " concatenate_1 (Concatenate)    (None, 32, 32, 128)  0           ['conv2d_transpose_1[0][0]',     \n",
            "                                                                  'activation_15[0][0]']          \n",
            "                                                                                                  \n",
            " conv2d_28 (Conv2D)             (None, 32, 32, 64)   73792       ['concatenate_1[0][0]']          \n",
            "                                                                                                  \n",
            " batch_normalization_28 (BatchN  (None, 32, 32, 64)  256         ['conv2d_28[0][0]']              \n",
            " ormalization)                                                                                    \n",
            "                                                                                                  \n",
            " activation_28 (Activation)     (None, 32, 32, 64)   0           ['batch_normalization_28[0][0]'] \n",
            "                                                                                                  \n",
            " conv2d_29 (Conv2D)             (None, 32, 32, 64)   36928       ['activation_28[0][0]']          \n",
            "                                                                                                  \n",
            " batch_normalization_29 (BatchN  (None, 32, 32, 64)  256         ['conv2d_29[0][0]']              \n",
            " ormalization)                                                                                    \n",
            "                                                                                                  \n",
            " activation_29 (Activation)     (None, 32, 32, 64)   0           ['batch_normalization_29[0][0]'] \n",
            "                                                                                                  \n",
            " conv2d_30 (Conv2D)             (None, 32, 32, 64)   36928       ['activation_29[0][0]']          \n",
            "                                                                                                  \n",
            " batch_normalization_30 (BatchN  (None, 32, 32, 64)  256         ['conv2d_30[0][0]']              \n",
            " ormalization)                                                                                    \n",
            "                                                                                                  \n",
            " activation_30 (Activation)     (None, 32, 32, 64)   0           ['batch_normalization_30[0][0]'] \n",
            "                                                                                                  \n",
            " add_7 (Add)                    (None, 32, 32, 64)   0           ['activation_28[0][0]',          \n",
            "                                                                  'activation_30[0][0]']          \n",
            "                                                                                                  \n",
            " conv2d_31 (Conv2D)             (None, 32, 32, 64)   36928       ['add_7[0][0]']                  \n",
            "                                                                                                  \n",
            " batch_normalization_31 (BatchN  (None, 32, 32, 64)  256         ['conv2d_31[0][0]']              \n",
            " ormalization)                                                                                    \n",
            "                                                                                                  \n",
            " activation_31 (Activation)     (None, 32, 32, 64)   0           ['batch_normalization_31[0][0]'] \n",
            "                                                                                                  \n",
            " conv2d_transpose_2 (Conv2DTran  (None, 64, 64, 32)  18464       ['activation_31[0][0]']          \n",
            " spose)                                                                                           \n",
            "                                                                                                  \n",
            " concatenate_2 (Concatenate)    (None, 64, 64, 64)   0           ['conv2d_transpose_2[0][0]',     \n",
            "                                                                  'activation_11[0][0]']          \n",
            "                                                                                                  \n",
            " conv2d_32 (Conv2D)             (None, 64, 64, 32)   18464       ['concatenate_2[0][0]']          \n",
            "                                                                                                  \n",
            " batch_normalization_32 (BatchN  (None, 64, 64, 32)  128         ['conv2d_32[0][0]']              \n",
            " ormalization)                                                                                    \n",
            "                                                                                                  \n",
            " activation_32 (Activation)     (None, 64, 64, 32)   0           ['batch_normalization_32[0][0]'] \n",
            "                                                                                                  \n",
            " conv2d_33 (Conv2D)             (None, 64, 64, 32)   9248        ['activation_32[0][0]']          \n",
            "                                                                                                  \n",
            " batch_normalization_33 (BatchN  (None, 64, 64, 32)  128         ['conv2d_33[0][0]']              \n",
            " ormalization)                                                                                    \n",
            "                                                                                                  \n",
            " activation_33 (Activation)     (None, 64, 64, 32)   0           ['batch_normalization_33[0][0]'] \n",
            "                                                                                                  \n",
            " conv2d_34 (Conv2D)             (None, 64, 64, 32)   9248        ['activation_33[0][0]']          \n",
            "                                                                                                  \n",
            " batch_normalization_34 (BatchN  (None, 64, 64, 32)  128         ['conv2d_34[0][0]']              \n",
            " ormalization)                                                                                    \n",
            "                                                                                                  \n",
            " activation_34 (Activation)     (None, 64, 64, 32)   0           ['batch_normalization_34[0][0]'] \n",
            "                                                                                                  \n",
            " add_8 (Add)                    (None, 64, 64, 32)   0           ['activation_32[0][0]',          \n",
            "                                                                  'activation_34[0][0]']          \n",
            "                                                                                                  \n",
            " conv2d_35 (Conv2D)             (None, 64, 64, 32)   9248        ['add_8[0][0]']                  \n",
            "                                                                                                  \n",
            " batch_normalization_35 (BatchN  (None, 64, 64, 32)  128         ['conv2d_35[0][0]']              \n",
            " ormalization)                                                                                    \n",
            "                                                                                                  \n",
            " activation_35 (Activation)     (None, 64, 64, 32)   0           ['batch_normalization_35[0][0]'] \n",
            "                                                                                                  \n",
            " conv2d_transpose_3 (Conv2DTran  (None, 128, 128, 16  4624       ['activation_35[0][0]']          \n",
            " spose)                         )                                                                 \n",
            "                                                                                                  \n",
            " concatenate_3 (Concatenate)    (None, 128, 128, 32  0           ['conv2d_transpose_3[0][0]',     \n",
            "                                )                                 'activation_7[0][0]']           \n",
            "                                                                                                  \n",
            " conv2d_36 (Conv2D)             (None, 128, 128, 16  4624        ['concatenate_3[0][0]']          \n",
            "                                )                                                                 \n",
            "                                                                                                  \n",
            " batch_normalization_36 (BatchN  (None, 128, 128, 16  64         ['conv2d_36[0][0]']              \n",
            " ormalization)                  )                                                                 \n",
            "                                                                                                  \n",
            " activation_36 (Activation)     (None, 128, 128, 16  0           ['batch_normalization_36[0][0]'] \n",
            "                                )                                                                 \n",
            "                                                                                                  \n",
            " conv2d_37 (Conv2D)             (None, 128, 128, 16  2320        ['activation_36[0][0]']          \n",
            "                                )                                                                 \n",
            "                                                                                                  \n",
            " batch_normalization_37 (BatchN  (None, 128, 128, 16  64         ['conv2d_37[0][0]']              \n",
            " ormalization)                  )                                                                 \n",
            "                                                                                                  \n",
            " activation_37 (Activation)     (None, 128, 128, 16  0           ['batch_normalization_37[0][0]'] \n",
            "                                )                                                                 \n",
            "                                                                                                  \n",
            " conv2d_38 (Conv2D)             (None, 128, 128, 16  2320        ['activation_37[0][0]']          \n",
            "                                )                                                                 \n",
            "                                                                                                  \n",
            " batch_normalization_38 (BatchN  (None, 128, 128, 16  64         ['conv2d_38[0][0]']              \n",
            " ormalization)                  )                                                                 \n",
            "                                                                                                  \n",
            " activation_38 (Activation)     (None, 128, 128, 16  0           ['batch_normalization_38[0][0]'] \n",
            "                                )                                                                 \n",
            "                                                                                                  \n",
            " add_9 (Add)                    (None, 128, 128, 16  0           ['activation_36[0][0]',          \n",
            "                                )                                 'activation_38[0][0]']          \n",
            "                                                                                                  \n",
            " conv2d_39 (Conv2D)             (None, 128, 128, 16  2320        ['add_9[0][0]']                  \n",
            "                                )                                                                 \n",
            "                                                                                                  \n",
            " batch_normalization_39 (BatchN  (None, 128, 128, 16  64         ['conv2d_39[0][0]']              \n",
            " ormalization)                  )                                                                 \n",
            "                                                                                                  \n",
            " activation_39 (Activation)     (None, 128, 128, 16  0           ['batch_normalization_39[0][0]'] \n",
            "                                )                                                                 \n",
            "                                                                                                  \n",
            " conv2d_transpose_4 (Conv2DTran  (None, 256, 256, 8)  1160       ['activation_39[0][0]']          \n",
            " spose)                                                                                           \n",
            "                                                                                                  \n",
            " concatenate_4 (Concatenate)    (None, 256, 256, 16  0           ['conv2d_transpose_4[0][0]',     \n",
            "                                )                                 'activation_3[0][0]']           \n",
            "                                                                                                  \n",
            " conv2d_40 (Conv2D)             (None, 256, 256, 8)  1160        ['concatenate_4[0][0]']          \n",
            "                                                                                                  \n",
            " batch_normalization_40 (BatchN  (None, 256, 256, 8)  32         ['conv2d_40[0][0]']              \n",
            " ormalization)                                                                                    \n",
            "                                                                                                  \n",
            " activation_40 (Activation)     (None, 256, 256, 8)  0           ['batch_normalization_40[0][0]'] \n",
            "                                                                                                  \n",
            " conv2d_41 (Conv2D)             (None, 256, 256, 8)  584         ['activation_40[0][0]']          \n",
            "                                                                                                  \n",
            " batch_normalization_41 (BatchN  (None, 256, 256, 8)  32         ['conv2d_41[0][0]']              \n",
            " ormalization)                                                                                    \n",
            "                                                                                                  \n",
            " activation_41 (Activation)     (None, 256, 256, 8)  0           ['batch_normalization_41[0][0]'] \n",
            "                                                                                                  \n",
            " conv2d_42 (Conv2D)             (None, 256, 256, 8)  584         ['activation_41[0][0]']          \n",
            "                                                                                                  \n",
            " batch_normalization_42 (BatchN  (None, 256, 256, 8)  32         ['conv2d_42[0][0]']              \n",
            " ormalization)                                                                                    \n",
            "                                                                                                  \n",
            " activation_42 (Activation)     (None, 256, 256, 8)  0           ['batch_normalization_42[0][0]'] \n",
            "                                                                                                  \n",
            " add_10 (Add)                   (None, 256, 256, 8)  0           ['activation_40[0][0]',          \n",
            "                                                                  'activation_42[0][0]']          \n",
            "                                                                                                  \n",
            " conv2d_43 (Conv2D)             (None, 256, 256, 8)  584         ['add_10[0][0]']                 \n",
            "                                                                                                  \n",
            " batch_normalization_43 (BatchN  (None, 256, 256, 8)  32         ['conv2d_43[0][0]']              \n",
            " ormalization)                                                                                    \n",
            "                                                                                                  \n",
            " activation_43 (Activation)     (None, 256, 256, 8)  0           ['batch_normalization_43[0][0]'] \n",
            "                                                                                                  \n",
            " conv2d_44 (Conv2D)             (None, 256, 256, 9)  81          ['activation_43[0][0]']          \n",
            "                                                                                                  \n",
            "==================================================================================================\n",
            "Total params: 3,624,529\n",
            "Trainable params: 3,619,025\n",
            "Non-trainable params: 5,504\n",
            "__________________________________________________________________________________________________\n"
          ]
        }
      ]
    },
    {
      "cell_type": "code",
      "metadata": {
        "id": "YO4fl63B5wwv"
      },
      "source": [
        "genConfig.write_cfg(cfg_dir,name, 'a', optimizer = \"Adam\", loss = comment, metrics = metrics, state = state, n_filters = n_filters)\n",
        "del n_filters\n",
        "del state\n"
      ],
      "execution_count": null,
      "outputs": []
    },
    {
      "cell_type": "markdown",
      "metadata": {
        "id": "KtJajT8U51Cb"
      },
      "source": [
        "#Model Fitting"
      ]
    },
    {
      "cell_type": "code",
      "metadata": {
        "id": "oY7mXctB53bG",
        "colab": {
          "base_uri": "https://localhost:8080/"
        },
        "outputId": "d48fbaf3-ff9e-481d-abbc-139d96f16b98"
      },
      "source": [
        "start = datetime.now()\n",
        "results = model.fit(X_train, y_train, batch_size=batch_size, epochs=epoch_limit, callbacks=callbacks,\n",
        "                     validation_data=(X_valid, y_valid))\n",
        "\n",
        "stop = datetime.now()\n",
        "\n"
      ],
      "execution_count": null,
      "outputs": [
        {
          "output_type": "stream",
          "name": "stderr",
          "text": [
            "/usr/local/lib/python3.7/dist-packages/keras/engine/functional.py:1410: CustomMaskWarning: Custom mask layers require a config and must override get_config. When loading, the custom mask layer must be passed to the custom_objects argument.\n",
            "  layer_config = serialize_layer_fn(layer)\n"
          ]
        },
        {
          "output_type": "stream",
          "name": "stdout",
          "text": [
            "Epoch 1/200\n",
            "800/800 [==============================] - ETA: 0s - loss: 2.1560 - accuracy: 0.1538\n",
            "Epoch 00001: val_loss improved from inf to 1.98280, saving model to /content/drive/MyDrive/BadaniaMchtr/Results/UNetResNet5_resc_wrpd_11-13-2021_16-31-46_SOFTMAX_WrapCount/model/UNetResNet5_resc_wrpd_11-13-2021_16-31-46_SOFTMAX_WrapCount.h5\n",
            "800/800 [==============================] - 248s 264ms/step - loss: 2.1560 - accuracy: 0.1538 - val_loss: 1.9828 - val_accuracy: 0.3259 - lr: 1.0000e-04\n",
            "Epoch 2/200\n",
            "800/800 [==============================] - ETA: 0s - loss: 1.5657 - accuracy: 0.5089\n",
            "Epoch 00002: val_loss improved from 1.98280 to 1.18423, saving model to /content/drive/MyDrive/BadaniaMchtr/Results/UNetResNet5_resc_wrpd_11-13-2021_16-31-46_SOFTMAX_WrapCount/model/UNetResNet5_resc_wrpd_11-13-2021_16-31-46_SOFTMAX_WrapCount.h5\n",
            "800/800 [==============================] - 211s 264ms/step - loss: 1.5657 - accuracy: 0.5089 - val_loss: 1.1842 - val_accuracy: 0.6877 - lr: 1.0000e-04\n",
            "Epoch 3/200\n",
            "800/800 [==============================] - ETA: 0s - loss: 1.0924 - accuracy: 0.6853\n",
            "Epoch 00003: val_loss improved from 1.18423 to 0.84565, saving model to /content/drive/MyDrive/BadaniaMchtr/Results/UNetResNet5_resc_wrpd_11-13-2021_16-31-46_SOFTMAX_WrapCount/model/UNetResNet5_resc_wrpd_11-13-2021_16-31-46_SOFTMAX_WrapCount.h5\n",
            "800/800 [==============================] - 216s 270ms/step - loss: 1.0924 - accuracy: 0.6853 - val_loss: 0.8457 - val_accuracy: 0.7892 - lr: 1.0000e-04\n",
            "Epoch 4/200\n",
            "800/800 [==============================] - ETA: 0s - loss: 0.8224 - accuracy: 0.7642\n",
            "Epoch 00004: val_loss improved from 0.84565 to 0.64054, saving model to /content/drive/MyDrive/BadaniaMchtr/Results/UNetResNet5_resc_wrpd_11-13-2021_16-31-46_SOFTMAX_WrapCount/model/UNetResNet5_resc_wrpd_11-13-2021_16-31-46_SOFTMAX_WrapCount.h5\n",
            "800/800 [==============================] - 217s 271ms/step - loss: 0.8224 - accuracy: 0.7642 - val_loss: 0.6405 - val_accuracy: 0.8229 - lr: 1.0000e-04\n",
            "Epoch 5/200\n",
            "800/800 [==============================] - ETA: 0s - loss: 0.6675 - accuracy: 0.8009\n",
            "Epoch 00005: val_loss improved from 0.64054 to 0.57902, saving model to /content/drive/MyDrive/BadaniaMchtr/Results/UNetResNet5_resc_wrpd_11-13-2021_16-31-46_SOFTMAX_WrapCount/model/UNetResNet5_resc_wrpd_11-13-2021_16-31-46_SOFTMAX_WrapCount.h5\n",
            "800/800 [==============================] - 212s 265ms/step - loss: 0.6675 - accuracy: 0.8009 - val_loss: 0.5790 - val_accuracy: 0.7655 - lr: 1.0000e-04\n",
            "Epoch 6/200\n",
            "800/800 [==============================] - ETA: 0s - loss: 0.5660 - accuracy: 0.8224\n",
            "Epoch 00006: val_loss improved from 0.57902 to 0.57663, saving model to /content/drive/MyDrive/BadaniaMchtr/Results/UNetResNet5_resc_wrpd_11-13-2021_16-31-46_SOFTMAX_WrapCount/model/UNetResNet5_resc_wrpd_11-13-2021_16-31-46_SOFTMAX_WrapCount.h5\n",
            "800/800 [==============================] - 211s 264ms/step - loss: 0.5660 - accuracy: 0.8224 - val_loss: 0.5766 - val_accuracy: 0.7682 - lr: 1.0000e-04\n",
            "Epoch 7/200\n",
            "800/800 [==============================] - ETA: 0s - loss: 0.4765 - accuracy: 0.8477\n",
            "Epoch 00007: val_loss improved from 0.57663 to 0.38298, saving model to /content/drive/MyDrive/BadaniaMchtr/Results/UNetResNet5_resc_wrpd_11-13-2021_16-31-46_SOFTMAX_WrapCount/model/UNetResNet5_resc_wrpd_11-13-2021_16-31-46_SOFTMAX_WrapCount.h5\n",
            "800/800 [==============================] - 212s 264ms/step - loss: 0.4765 - accuracy: 0.8477 - val_loss: 0.3830 - val_accuracy: 0.8876 - lr: 1.0000e-04\n",
            "Epoch 8/200\n",
            "800/800 [==============================] - ETA: 0s - loss: 0.4244 - accuracy: 0.8608\n",
            "Epoch 00008: val_loss did not improve from 0.38298\n",
            "800/800 [==============================] - 210s 262ms/step - loss: 0.4244 - accuracy: 0.8608 - val_loss: 0.4362 - val_accuracy: 0.8261 - lr: 1.0000e-04\n",
            "Epoch 9/200\n",
            "800/800 [==============================] - ETA: 0s - loss: 0.3761 - accuracy: 0.8769\n",
            "Epoch 00009: val_loss improved from 0.38298 to 0.28916, saving model to /content/drive/MyDrive/BadaniaMchtr/Results/UNetResNet5_resc_wrpd_11-13-2021_16-31-46_SOFTMAX_WrapCount/model/UNetResNet5_resc_wrpd_11-13-2021_16-31-46_SOFTMAX_WrapCount.h5\n",
            "800/800 [==============================] - 211s 263ms/step - loss: 0.3761 - accuracy: 0.8769 - val_loss: 0.2892 - val_accuracy: 0.9139 - lr: 1.0000e-04\n",
            "Epoch 10/200\n",
            "800/800 [==============================] - ETA: 0s - loss: 0.3259 - accuracy: 0.8940\n",
            "Epoch 00010: val_loss improved from 0.28916 to 0.25785, saving model to /content/drive/MyDrive/BadaniaMchtr/Results/UNetResNet5_resc_wrpd_11-13-2021_16-31-46_SOFTMAX_WrapCount/model/UNetResNet5_resc_wrpd_11-13-2021_16-31-46_SOFTMAX_WrapCount.h5\n",
            "800/800 [==============================] - 210s 263ms/step - loss: 0.3259 - accuracy: 0.8940 - val_loss: 0.2579 - val_accuracy: 0.9088 - lr: 1.0000e-04\n",
            "Epoch 11/200\n",
            "800/800 [==============================] - ETA: 0s - loss: 0.2882 - accuracy: 0.9043\n",
            "Epoch 00011: val_loss did not improve from 0.25785\n",
            "800/800 [==============================] - 209s 261ms/step - loss: 0.2882 - accuracy: 0.9043 - val_loss: 0.2735 - val_accuracy: 0.9083 - lr: 1.0000e-04\n",
            "Epoch 12/200\n",
            "800/800 [==============================] - ETA: 0s - loss: 0.2611 - accuracy: 0.9114\n",
            "Epoch 00012: val_loss improved from 0.25785 to 0.24554, saving model to /content/drive/MyDrive/BadaniaMchtr/Results/UNetResNet5_resc_wrpd_11-13-2021_16-31-46_SOFTMAX_WrapCount/model/UNetResNet5_resc_wrpd_11-13-2021_16-31-46_SOFTMAX_WrapCount.h5\n",
            "800/800 [==============================] - 216s 270ms/step - loss: 0.2611 - accuracy: 0.9114 - val_loss: 0.2455 - val_accuracy: 0.9185 - lr: 1.0000e-04\n",
            "Epoch 13/200\n",
            "800/800 [==============================] - ETA: 0s - loss: 0.2357 - accuracy: 0.9207\n",
            "Epoch 00013: val_loss improved from 0.24554 to 0.23766, saving model to /content/drive/MyDrive/BadaniaMchtr/Results/UNetResNet5_resc_wrpd_11-13-2021_16-31-46_SOFTMAX_WrapCount/model/UNetResNet5_resc_wrpd_11-13-2021_16-31-46_SOFTMAX_WrapCount.h5\n",
            "800/800 [==============================] - 216s 270ms/step - loss: 0.2357 - accuracy: 0.9207 - val_loss: 0.2377 - val_accuracy: 0.9022 - lr: 1.0000e-04\n",
            "Epoch 14/200\n",
            "800/800 [==============================] - ETA: 0s - loss: 0.2260 - accuracy: 0.9228\n",
            "Epoch 00014: val_loss did not improve from 0.23766\n",
            "800/800 [==============================] - 209s 261ms/step - loss: 0.2260 - accuracy: 0.9228 - val_loss: 0.2961 - val_accuracy: 0.8735 - lr: 1.0000e-04\n",
            "Epoch 15/200\n",
            "800/800 [==============================] - ETA: 0s - loss: 0.2028 - accuracy: 0.9319\n",
            "Epoch 00015: val_loss did not improve from 0.23766\n",
            "800/800 [==============================] - 209s 261ms/step - loss: 0.2028 - accuracy: 0.9319 - val_loss: 0.2702 - val_accuracy: 0.8937 - lr: 1.0000e-04\n",
            "Epoch 16/200\n",
            "800/800 [==============================] - ETA: 0s - loss: 0.1957 - accuracy: 0.9352\n",
            "Epoch 00016: val_loss improved from 0.23766 to 0.18167, saving model to /content/drive/MyDrive/BadaniaMchtr/Results/UNetResNet5_resc_wrpd_11-13-2021_16-31-46_SOFTMAX_WrapCount/model/UNetResNet5_resc_wrpd_11-13-2021_16-31-46_SOFTMAX_WrapCount.h5\n",
            "800/800 [==============================] - 215s 269ms/step - loss: 0.1957 - accuracy: 0.9352 - val_loss: 0.1817 - val_accuracy: 0.9383 - lr: 1.0000e-04\n",
            "Epoch 17/200\n",
            "800/800 [==============================] - ETA: 0s - loss: 0.1749 - accuracy: 0.9427\n",
            "Epoch 00017: val_loss improved from 0.18167 to 0.16215, saving model to /content/drive/MyDrive/BadaniaMchtr/Results/UNetResNet5_resc_wrpd_11-13-2021_16-31-46_SOFTMAX_WrapCount/model/UNetResNet5_resc_wrpd_11-13-2021_16-31-46_SOFTMAX_WrapCount.h5\n",
            "800/800 [==============================] - 216s 270ms/step - loss: 0.1749 - accuracy: 0.9427 - val_loss: 0.1621 - val_accuracy: 0.9389 - lr: 1.0000e-04\n",
            "Epoch 18/200\n",
            "800/800 [==============================] - ETA: 0s - loss: 0.1639 - accuracy: 0.9452\n",
            "Epoch 00018: val_loss improved from 0.16215 to 0.11809, saving model to /content/drive/MyDrive/BadaniaMchtr/Results/UNetResNet5_resc_wrpd_11-13-2021_16-31-46_SOFTMAX_WrapCount/model/UNetResNet5_resc_wrpd_11-13-2021_16-31-46_SOFTMAX_WrapCount.h5\n",
            "800/800 [==============================] - 210s 263ms/step - loss: 0.1639 - accuracy: 0.9452 - val_loss: 0.1181 - val_accuracy: 0.9660 - lr: 1.0000e-04\n",
            "Epoch 19/200\n",
            "800/800 [==============================] - ETA: 0s - loss: 0.1533 - accuracy: 0.9483\n",
            "Epoch 00019: val_loss did not improve from 0.11809\n",
            "800/800 [==============================] - 208s 261ms/step - loss: 0.1533 - accuracy: 0.9483 - val_loss: 0.1605 - val_accuracy: 0.9364 - lr: 1.0000e-04\n",
            "Epoch 20/200\n",
            "800/800 [==============================] - ETA: 0s - loss: 0.1365 - accuracy: 0.9543\n",
            "Epoch 00020: val_loss did not improve from 0.11809\n",
            "800/800 [==============================] - 214s 268ms/step - loss: 0.1365 - accuracy: 0.9543 - val_loss: 0.1278 - val_accuracy: 0.9544 - lr: 1.0000e-04\n",
            "Epoch 21/200\n",
            "800/800 [==============================] - ETA: 0s - loss: 0.1457 - accuracy: 0.9496\n",
            "Epoch 00021: val_loss did not improve from 0.11809\n",
            "800/800 [==============================] - 214s 267ms/step - loss: 0.1457 - accuracy: 0.9496 - val_loss: 0.1301 - val_accuracy: 0.9496 - lr: 1.0000e-04\n",
            "Epoch 22/200\n",
            "800/800 [==============================] - ETA: 0s - loss: 0.1149 - accuracy: 0.9610\n",
            "Epoch 00022: val_loss did not improve from 0.11809\n",
            "800/800 [==============================] - 208s 260ms/step - loss: 0.1149 - accuracy: 0.9610 - val_loss: 0.1843 - val_accuracy: 0.9229 - lr: 1.0000e-04\n",
            "Epoch 23/200\n",
            "800/800 [==============================] - ETA: 0s - loss: 0.1153 - accuracy: 0.9604\n",
            "Epoch 00023: val_loss improved from 0.11809 to 0.09856, saving model to /content/drive/MyDrive/BadaniaMchtr/Results/UNetResNet5_resc_wrpd_11-13-2021_16-31-46_SOFTMAX_WrapCount/model/UNetResNet5_resc_wrpd_11-13-2021_16-31-46_SOFTMAX_WrapCount.h5\n",
            "800/800 [==============================] - 216s 270ms/step - loss: 0.1153 - accuracy: 0.9604 - val_loss: 0.0986 - val_accuracy: 0.9648 - lr: 1.0000e-04\n",
            "Epoch 24/200\n",
            "800/800 [==============================] - ETA: 0s - loss: 0.1071 - accuracy: 0.9628\n",
            "Epoch 00024: val_loss did not improve from 0.09856\n",
            "800/800 [==============================] - 207s 259ms/step - loss: 0.1071 - accuracy: 0.9628 - val_loss: 0.1560 - val_accuracy: 0.9445 - lr: 1.0000e-04\n",
            "Epoch 25/200\n",
            "800/800 [==============================] - ETA: 0s - loss: 0.1138 - accuracy: 0.9591\n",
            "Epoch 00025: val_loss did not improve from 0.09856\n",
            "800/800 [==============================] - 207s 259ms/step - loss: 0.1138 - accuracy: 0.9591 - val_loss: 0.1893 - val_accuracy: 0.9255 - lr: 1.0000e-04\n",
            "Epoch 26/200\n",
            "800/800 [==============================] - ETA: 0s - loss: 0.1019 - accuracy: 0.9647\n",
            "Epoch 00026: val_loss did not improve from 0.09856\n",
            "800/800 [==============================] - 213s 266ms/step - loss: 0.1019 - accuracy: 0.9647 - val_loss: 0.1824 - val_accuracy: 0.9268 - lr: 1.0000e-04\n",
            "Epoch 27/200\n",
            "800/800 [==============================] - ETA: 0s - loss: 0.0997 - accuracy: 0.9654\n",
            "Epoch 00027: val_loss improved from 0.09856 to 0.07628, saving model to /content/drive/MyDrive/BadaniaMchtr/Results/UNetResNet5_resc_wrpd_11-13-2021_16-31-46_SOFTMAX_WrapCount/model/UNetResNet5_resc_wrpd_11-13-2021_16-31-46_SOFTMAX_WrapCount.h5\n",
            "800/800 [==============================] - 214s 268ms/step - loss: 0.0997 - accuracy: 0.9654 - val_loss: 0.0763 - val_accuracy: 0.9773 - lr: 1.0000e-04\n",
            "Epoch 28/200\n",
            "800/800 [==============================] - ETA: 0s - loss: 0.0862 - accuracy: 0.9709\n",
            "Epoch 00028: val_loss did not improve from 0.07628\n",
            "800/800 [==============================] - 207s 259ms/step - loss: 0.0862 - accuracy: 0.9709 - val_loss: 0.2527 - val_accuracy: 0.9150 - lr: 1.0000e-04\n",
            "Epoch 29/200\n",
            "800/800 [==============================] - ETA: 0s - loss: 0.0896 - accuracy: 0.9693\n",
            "Epoch 00029: val_loss did not improve from 0.07628\n",
            "800/800 [==============================] - 213s 266ms/step - loss: 0.0896 - accuracy: 0.9693 - val_loss: 0.1094 - val_accuracy: 0.9572 - lr: 1.0000e-04\n",
            "Epoch 30/200\n",
            "800/800 [==============================] - ETA: 0s - loss: 0.0834 - accuracy: 0.9718\n",
            "Epoch 00030: val_loss improved from 0.07628 to 0.07167, saving model to /content/drive/MyDrive/BadaniaMchtr/Results/UNetResNet5_resc_wrpd_11-13-2021_16-31-46_SOFTMAX_WrapCount/model/UNetResNet5_resc_wrpd_11-13-2021_16-31-46_SOFTMAX_WrapCount.h5\n",
            "800/800 [==============================] - 210s 263ms/step - loss: 0.0834 - accuracy: 0.9718 - val_loss: 0.0717 - val_accuracy: 0.9783 - lr: 1.0000e-04\n",
            "Epoch 31/200\n",
            "800/800 [==============================] - ETA: 0s - loss: 0.0746 - accuracy: 0.9753\n",
            "Epoch 00031: val_loss did not improve from 0.07167\n",
            "800/800 [==============================] - 214s 268ms/step - loss: 0.0746 - accuracy: 0.9753 - val_loss: 0.0897 - val_accuracy: 0.9679 - lr: 1.0000e-04\n",
            "Epoch 32/200\n",
            "800/800 [==============================] - ETA: 0s - loss: 0.0904 - accuracy: 0.9690\n",
            "Epoch 00032: val_loss improved from 0.07167 to 0.07087, saving model to /content/drive/MyDrive/BadaniaMchtr/Results/UNetResNet5_resc_wrpd_11-13-2021_16-31-46_SOFTMAX_WrapCount/model/UNetResNet5_resc_wrpd_11-13-2021_16-31-46_SOFTMAX_WrapCount.h5\n",
            "800/800 [==============================] - 216s 271ms/step - loss: 0.0904 - accuracy: 0.9690 - val_loss: 0.0709 - val_accuracy: 0.9796 - lr: 1.0000e-04\n",
            "Epoch 33/200\n",
            "800/800 [==============================] - ETA: 0s - loss: 0.0664 - accuracy: 0.9780\n",
            "Epoch 00033: val_loss did not improve from 0.07087\n",
            "800/800 [==============================] - 215s 268ms/step - loss: 0.0664 - accuracy: 0.9780 - val_loss: 0.1347 - val_accuracy: 0.9527 - lr: 1.0000e-04\n",
            "Epoch 34/200\n",
            "800/800 [==============================] - ETA: 0s - loss: 0.0778 - accuracy: 0.9734\n",
            "Epoch 00034: val_loss improved from 0.07087 to 0.05227, saving model to /content/drive/MyDrive/BadaniaMchtr/Results/UNetResNet5_resc_wrpd_11-13-2021_16-31-46_SOFTMAX_WrapCount/model/UNetResNet5_resc_wrpd_11-13-2021_16-31-46_SOFTMAX_WrapCount.h5\n",
            "800/800 [==============================] - 210s 263ms/step - loss: 0.0778 - accuracy: 0.9734 - val_loss: 0.0523 - val_accuracy: 0.9848 - lr: 1.0000e-04\n",
            "Epoch 35/200\n",
            "800/800 [==============================] - ETA: 0s - loss: 0.0710 - accuracy: 0.9759\n",
            "Epoch 00035: val_loss did not improve from 0.05227\n",
            "800/800 [==============================] - 207s 259ms/step - loss: 0.0710 - accuracy: 0.9759 - val_loss: 0.0646 - val_accuracy: 0.9789 - lr: 1.0000e-04\n",
            "Epoch 36/200\n",
            "800/800 [==============================] - ETA: 0s - loss: 0.0532 - accuracy: 0.9835\n",
            "Epoch 00036: val_loss did not improve from 0.05227\n",
            "800/800 [==============================] - 207s 259ms/step - loss: 0.0532 - accuracy: 0.9835 - val_loss: 0.0543 - val_accuracy: 0.9832 - lr: 1.0000e-04\n",
            "Epoch 37/200\n",
            "800/800 [==============================] - ETA: 0s - loss: 0.0760 - accuracy: 0.9739\n",
            "Epoch 00037: val_loss did not improve from 0.05227\n",
            "800/800 [==============================] - 207s 259ms/step - loss: 0.0760 - accuracy: 0.9739 - val_loss: 0.0857 - val_accuracy: 0.9702 - lr: 1.0000e-04\n",
            "Epoch 38/200\n",
            "800/800 [==============================] - ETA: 0s - loss: 0.0620 - accuracy: 0.9792\n",
            "Epoch 00038: val_loss did not improve from 0.05227\n",
            "800/800 [==============================] - 207s 258ms/step - loss: 0.0620 - accuracy: 0.9792 - val_loss: 0.0551 - val_accuracy: 0.9816 - lr: 1.0000e-04\n",
            "Epoch 39/200\n",
            "800/800 [==============================] - ETA: 0s - loss: 0.0561 - accuracy: 0.9817\n",
            "Epoch 00039: ReduceLROnPlateau reducing learning rate to 9.999999747378752e-06.\n",
            "\n",
            "Epoch 00039: val_loss did not improve from 0.05227\n",
            "800/800 [==============================] - 213s 266ms/step - loss: 0.0561 - accuracy: 0.9817 - val_loss: 0.0814 - val_accuracy: 0.9708 - lr: 1.0000e-04\n",
            "Epoch 40/200\n",
            "800/800 [==============================] - ETA: 0s - loss: 0.0282 - accuracy: 0.9936\n",
            "Epoch 00040: val_loss improved from 0.05227 to 0.03204, saving model to /content/drive/MyDrive/BadaniaMchtr/Results/UNetResNet5_resc_wrpd_11-13-2021_16-31-46_SOFTMAX_WrapCount/model/UNetResNet5_resc_wrpd_11-13-2021_16-31-46_SOFTMAX_WrapCount.h5\n",
            "800/800 [==============================] - 215s 269ms/step - loss: 0.0282 - accuracy: 0.9936 - val_loss: 0.0320 - val_accuracy: 0.9899 - lr: 1.0000e-05\n",
            "Epoch 41/200\n",
            "800/800 [==============================] - ETA: 0s - loss: 0.0270 - accuracy: 0.9938\n",
            "Epoch 00041: val_loss did not improve from 0.03204\n",
            "800/800 [==============================] - 209s 261ms/step - loss: 0.0270 - accuracy: 0.9938 - val_loss: 0.0389 - val_accuracy: 0.9862 - lr: 1.0000e-05\n",
            "Epoch 42/200\n",
            "800/800 [==============================] - ETA: 0s - loss: 0.0238 - accuracy: 0.9949\n",
            "Epoch 00042: val_loss improved from 0.03204 to 0.02971, saving model to /content/drive/MyDrive/BadaniaMchtr/Results/UNetResNet5_resc_wrpd_11-13-2021_16-31-46_SOFTMAX_WrapCount/model/UNetResNet5_resc_wrpd_11-13-2021_16-31-46_SOFTMAX_WrapCount.h5\n",
            "800/800 [==============================] - 210s 263ms/step - loss: 0.0238 - accuracy: 0.9949 - val_loss: 0.0297 - val_accuracy: 0.9906 - lr: 1.0000e-05\n",
            "Epoch 43/200\n",
            "800/800 [==============================] - ETA: 0s - loss: 0.0230 - accuracy: 0.9952\n",
            "Epoch 00043: val_loss did not improve from 0.02971\n",
            "800/800 [==============================] - 214s 267ms/step - loss: 0.0230 - accuracy: 0.9952 - val_loss: 0.0341 - val_accuracy: 0.9885 - lr: 1.0000e-05\n",
            "Epoch 44/200\n",
            "800/800 [==============================] - ETA: 0s - loss: 0.0220 - accuracy: 0.9955\n",
            "Epoch 00044: val_loss did not improve from 0.02971\n",
            "800/800 [==============================] - 209s 261ms/step - loss: 0.0220 - accuracy: 0.9955 - val_loss: 0.0300 - val_accuracy: 0.9900 - lr: 1.0000e-05\n",
            "Epoch 45/200\n",
            "800/800 [==============================] - ETA: 0s - loss: 0.0211 - accuracy: 0.9956\n",
            "Epoch 00045: val_loss did not improve from 0.02971\n",
            "800/800 [==============================] - 214s 267ms/step - loss: 0.0211 - accuracy: 0.9956 - val_loss: 0.0299 - val_accuracy: 0.9903 - lr: 1.0000e-05\n",
            "Epoch 46/200\n",
            "800/800 [==============================] - ETA: 0s - loss: 0.0218 - accuracy: 0.9955\n",
            "Epoch 00046: val_loss improved from 0.02971 to 0.02882, saving model to /content/drive/MyDrive/BadaniaMchtr/Results/UNetResNet5_resc_wrpd_11-13-2021_16-31-46_SOFTMAX_WrapCount/model/UNetResNet5_resc_wrpd_11-13-2021_16-31-46_SOFTMAX_WrapCount.h5\n",
            "800/800 [==============================] - 210s 262ms/step - loss: 0.0218 - accuracy: 0.9955 - val_loss: 0.0288 - val_accuracy: 0.9909 - lr: 1.0000e-05\n",
            "Epoch 47/200\n",
            "800/800 [==============================] - ETA: 0s - loss: 0.0199 - accuracy: 0.9960\n",
            "Epoch 00047: val_loss improved from 0.02882 to 0.02454, saving model to /content/drive/MyDrive/BadaniaMchtr/Results/UNetResNet5_resc_wrpd_11-13-2021_16-31-46_SOFTMAX_WrapCount/model/UNetResNet5_resc_wrpd_11-13-2021_16-31-46_SOFTMAX_WrapCount.h5\n",
            "800/800 [==============================] - 215s 268ms/step - loss: 0.0199 - accuracy: 0.9960 - val_loss: 0.0245 - val_accuracy: 0.9930 - lr: 1.0000e-05\n",
            "Epoch 48/200\n",
            "800/800 [==============================] - ETA: 0s - loss: 0.0207 - accuracy: 0.9957\n",
            "Epoch 00048: val_loss did not improve from 0.02454\n",
            "800/800 [==============================] - 208s 260ms/step - loss: 0.0207 - accuracy: 0.9957 - val_loss: 0.0349 - val_accuracy: 0.9878 - lr: 1.0000e-05\n",
            "Epoch 49/200\n",
            "800/800 [==============================] - ETA: 0s - loss: 0.0192 - accuracy: 0.9960\n",
            "Epoch 00049: val_loss did not improve from 0.02454\n",
            "800/800 [==============================] - 213s 267ms/step - loss: 0.0192 - accuracy: 0.9960 - val_loss: 0.0290 - val_accuracy: 0.9907 - lr: 1.0000e-05\n",
            "Epoch 50/200\n",
            "800/800 [==============================] - ETA: 0s - loss: 0.0187 - accuracy: 0.9962\n",
            "Epoch 00050: val_loss did not improve from 0.02454\n",
            "800/800 [==============================] - 214s 267ms/step - loss: 0.0187 - accuracy: 0.9962 - val_loss: 0.0258 - val_accuracy: 0.9922 - lr: 1.0000e-05\n",
            "Epoch 51/200\n",
            "800/800 [==============================] - ETA: 0s - loss: 0.0181 - accuracy: 0.9964\n",
            "Epoch 00051: val_loss improved from 0.02454 to 0.02341, saving model to /content/drive/MyDrive/BadaniaMchtr/Results/UNetResNet5_resc_wrpd_11-13-2021_16-31-46_SOFTMAX_WrapCount/model/UNetResNet5_resc_wrpd_11-13-2021_16-31-46_SOFTMAX_WrapCount.h5\n",
            "800/800 [==============================] - 215s 269ms/step - loss: 0.0181 - accuracy: 0.9964 - val_loss: 0.0234 - val_accuracy: 0.9932 - lr: 1.0000e-05\n",
            "Epoch 52/200\n",
            "800/800 [==============================] - ETA: 0s - loss: 0.0180 - accuracy: 0.9964\n",
            "Epoch 00052: val_loss did not improve from 0.02341\n",
            "800/800 [==============================] - 208s 260ms/step - loss: 0.0180 - accuracy: 0.9964 - val_loss: 0.0254 - val_accuracy: 0.9925 - lr: 1.0000e-05\n",
            "Epoch 53/200\n",
            "800/800 [==============================] - ETA: 0s - loss: 0.0178 - accuracy: 0.9962\n",
            "Epoch 00053: val_loss did not improve from 0.02341\n",
            "800/800 [==============================] - 213s 266ms/step - loss: 0.0178 - accuracy: 0.9962 - val_loss: 0.0262 - val_accuracy: 0.9918 - lr: 1.0000e-05\n",
            "Epoch 54/200\n",
            "800/800 [==============================] - ETA: 0s - loss: 0.0169 - accuracy: 0.9966\n",
            "Epoch 00054: val_loss did not improve from 0.02341\n",
            "800/800 [==============================] - 207s 259ms/step - loss: 0.0169 - accuracy: 0.9966 - val_loss: 0.0322 - val_accuracy: 0.9894 - lr: 1.0000e-05\n",
            "Epoch 55/200\n",
            "800/800 [==============================] - ETA: 0s - loss: 0.0160 - accuracy: 0.9969\n",
            "Epoch 00055: val_loss did not improve from 0.02341\n",
            "800/800 [==============================] - 213s 266ms/step - loss: 0.0160 - accuracy: 0.9969 - val_loss: 0.0313 - val_accuracy: 0.9900 - lr: 1.0000e-05\n",
            "Epoch 56/200\n",
            "800/800 [==============================] - ETA: 0s - loss: 0.0165 - accuracy: 0.9965\n",
            "Epoch 00056: ReduceLROnPlateau reducing learning rate to 9.999999747378752e-07.\n",
            "\n",
            "Epoch 00056: val_loss did not improve from 0.02341\n",
            "800/800 [==============================] - 214s 267ms/step - loss: 0.0165 - accuracy: 0.9965 - val_loss: 0.0349 - val_accuracy: 0.9884 - lr: 1.0000e-05\n",
            "Epoch 57/200\n",
            "800/800 [==============================] - ETA: 0s - loss: 0.0160 - accuracy: 0.9967\n",
            "Epoch 00057: val_loss did not improve from 0.02341\n",
            "800/800 [==============================] - 209s 261ms/step - loss: 0.0160 - accuracy: 0.9967 - val_loss: 0.0285 - val_accuracy: 0.9908 - lr: 1.0000e-06\n",
            "Epoch 58/200\n",
            "800/800 [==============================] - ETA: 0s - loss: 0.0178 - accuracy: 0.9967\n",
            "Epoch 00058: val_loss did not improve from 0.02341\n",
            "800/800 [==============================] - 209s 261ms/step - loss: 0.0178 - accuracy: 0.9967 - val_loss: 0.0293 - val_accuracy: 0.9904 - lr: 1.0000e-06\n",
            "Epoch 59/200\n",
            "800/800 [==============================] - ETA: 0s - loss: 0.0148 - accuracy: 0.9972\n",
            "Epoch 00059: val_loss did not improve from 0.02341\n",
            "800/800 [==============================] - 209s 262ms/step - loss: 0.0148 - accuracy: 0.9972 - val_loss: 0.0278 - val_accuracy: 0.9911 - lr: 1.0000e-06\n",
            "Epoch 00059: early stopping\n"
          ]
        }
      ]
    },
    {
      "cell_type": "code",
      "metadata": {
        "id": "kaTS-Phl57JH"
      },
      "source": [
        "time = stop - start\n",
        "del stop\n",
        "del start"
      ],
      "execution_count": null,
      "outputs": []
    },
    {
      "cell_type": "code",
      "metadata": {
        "id": "fCiJUFED576J"
      },
      "source": [
        "genConfig.write_cfg(cfg_dir,name, \"a\", batch_size = batch_size, epoch_limit = epoch_limit, time = time, activation_function = activation_function)\n",
        "del epoch_limit\n",
        "del time"
      ],
      "execution_count": null,
      "outputs": []
    },
    {
      "cell_type": "markdown",
      "metadata": {
        "id": "8xBhPseU5_pP"
      },
      "source": [
        "#Plotting Results"
      ]
    },
    {
      "cell_type": "code",
      "metadata": {
        "id": "54rgm4sQ6B_0"
      },
      "source": [
        ""
      ],
      "execution_count": null,
      "outputs": []
    },
    {
      "cell_type": "code",
      "metadata": {
        "id": "IKlMp4fP6DvJ",
        "colab": {
          "base_uri": "https://localhost:8080/",
          "height": 655
        },
        "outputId": "ed5ab026-02c3-465c-c625-b690bdf50e5a"
      },
      "source": [
        "plotter.plot_model_data(model, name, results, root)\n",
        "genConfig.write_cfg(cfg_dir,name, \"a\",  best_loss = np.min(results.history[\"val_loss\"]), for_epoch_loss = np.argmin(results.history[\"val_loss\"]), best_acc = np.max(results.history[\"val_accuracy\"]), for_epoch_acc = np.argmax(results.history[\"val_accuracy\"]))\n",
        "del results"
      ],
      "execution_count": null,
      "outputs": [
        {
          "output_type": "stream",
          "name": "stdout",
          "text": [
            "dot: graph is too large for cairo-renderer bitmaps. Scaling by 0.500496 to fit\n",
            "\n"
          ]
        },
        {
          "output_type": "display_data",
          "data": {
            "image/png": "[encoded data removed]",
            "text/plain": [
              "<Figure size 720x720 with 1 Axes>"
            ]
          },
          "metadata": {
            "needs_background": "light"
          }
        }
      ]
    },
    {
      "cell_type": "markdown",
      "metadata": {
        "id": "8aTb-t6i6GUQ"
      },
      "source": [
        "#Model Evaluation"
      ]
    },
    {
      "cell_type": "code",
      "metadata": {
        "id": "bmKoDryz6Iio",
        "colab": {
          "base_uri": "https://localhost:8080/"
        },
        "outputId": "1d2d62cc-26f8-4780-e0b1-2617d6d4236d"
      },
      "source": [
        "score = model.evaluate(X_train, y_train,\n",
        "                            batch_size=batch_size)\n",
        "labels = model.metrics_names\n",
        "\n",
        "header_train  = \"\\n-------TRAIN EVALUATION-------\"\n",
        "loss_list = []\n",
        "\n",
        "\n",
        "for i, loss in enumerate(labels):\n",
        "    loss_list.append(f\"| {loss} : {score[i]} |\")\n",
        "\n",
        "genConfig.write_cfg(cfg_dir,name, \"a\", _ = header_train, TRAIN_EVAL = \"\".join(loss_list))\n",
        "\n",
        "loss_list.clear()"
      ],
      "execution_count": null,
      "outputs": [
        {
          "output_type": "stream",
          "name": "stdout",
          "text": [
            "800/800 [==============================] - 64s 80ms/step - loss: 0.0113 - accuracy: 0.9971\n"
          ]
        }
      ]
    },
    {
      "cell_type": "code",
      "metadata": {
        "id": "JUTlvV476MWx",
        "colab": {
          "base_uri": "https://localhost:8080/"
        },
        "outputId": "29b8e19b-5d13-4c96-facc-f4ce035c986a"
      },
      "source": [
        "score= model.evaluate(X_valid, y_valid,\n",
        "                            batch_size=batch_size)\n",
        "\n",
        "header_test = \"\\n-------TEST EVALUATION-------\"\n",
        "\n",
        "for i, loss in enumerate(labels):\n",
        "    loss_list.append(f\"| {loss} : {score[i]} |\")\n",
        "\n",
        "genConfig.write_cfg(cfg_dir,name, \"a\", _ = header_test, TEST_EVAL = \"\".join(loss_list))\n",
        "\n",
        "\n",
        "del score\n",
        "\n",
        "del header_test\n",
        "#del header_train\n",
        "\n",
        "#del labels"
      ],
      "execution_count": null,
      "outputs": [
        {
          "output_type": "stream",
          "name": "stdout",
          "text": [
            "200/200 [==============================] - 22s 111ms/step - loss: 0.0278 - accuracy: 0.9911\n"
          ]
        }
      ]
    },
    {
      "cell_type": "code",
      "metadata": {
        "id": "d7gQ9g696PpS"
      },
      "source": [
        ""
      ],
      "execution_count": null,
      "outputs": []
    },
    {
      "cell_type": "code",
      "metadata": {
        "id": "axl_aAmXFmIn",
        "colab": {
          "base_uri": "https://localhost:8080/"
        },
        "outputId": "50622ce0-6464-4294-e05d-c9ac30ff7a83"
      },
      "source": [
        "!apt-get install rar"
      ],
      "execution_count": null,
      "outputs": [
        {
          "output_type": "stream",
          "name": "stdout",
          "text": [
            "Reading package lists... Done\n",
            "Building dependency tree       \n",
            "Reading state information... Done\n",
            "The following NEW packages will be installed:\n",
            "  rar\n",
            "0 upgraded, 1 newly installed, 0 to remove and 37 not upgraded.\n",
            "Need to get 295 kB of archives.\n",
            "After this operation, 799 kB of additional disk space will be used.\n",
            "Get:1 http://archive.ubuntu.com/ubuntu bionic/multiverse amd64 rar amd64 2:5.5.0-1 [295 kB]\n",
            "Fetched 295 kB in 0s (2,945 kB/s)\n",
            "Selecting previously unselected package rar.\n",
            "(Reading database ... 155219 files and directories currently installed.)\n",
            "Preparing to unpack .../rar_2%3a5.5.0-1_amd64.deb ...\n",
            "Unpacking rar (2:5.5.0-1) ...\n",
            "Setting up rar (2:5.5.0-1) ...\n",
            "Processing triggers for man-db (2.8.3-2ubuntu0.1) ...\n"
          ]
        }
      ]
    },
    {
      "cell_type": "code",
      "metadata": {
        "id": "UkBX7_-KplhS",
        "colab": {
          "base_uri": "https://localhost:8080/",
          "height": 462
        },
        "outputId": "76b64ed7-ed27-4514-b065-69d1cf365ed2"
      },
      "source": [
        "name = \"UNetResNet5lvl_resc_wrpd_10-14-2021_22-11-02_SSIMloss\"\n",
        "!rar a '/content/drive/MyDrive/UNetResNet5_resc_wrpd_11-13-2021_16-31-46_SOFTMAX_WrapCount_Results' '/content/drive/MyDrive/BadaniaMchtr/Results/UNetResNet5_resc_wrpd_11-13-2021_16-31-46_SOFTMAX_WrapCount'\n",
        "from google.colab import files\n",
        "files.download(\"/content/drive/MyDrive/UNetResNet5_resc_wrpd_11-13-2021_16-31-46_SOFTMAX_WrapCount_Results.rar\")\n"
      ],
      "execution_count": null,
      "outputs": [
        {
          "output_type": "stream",
          "name": "stdout",
          "text": [
            "\n",
            "RAR 5.50   Copyright (c) 1993-2017 Alexander Roshal   11 Aug 2017\n",
            "Trial version             Type 'rar -?' for help\n",
            "\n",
            "Evaluation copy. Please register.\n",
            "\n",
            "Creating archive /content/drive/MyDrive/UNetResNet5_resc_wrpd_11-13-2021_16-31-46_SOFTMAX_WrapCount_Results.rar\n",
            "\n",
            "Adding    /content/drive/MyDrive/BadaniaMchtr/Results/UNetResNet5_resc_wrpd_11-13-2021_16-31-46_SOFTMAX_WrapCount/model/UNetResNet5_resc_wrpd_11-13-2021_16-31-46_SOFTMAX_WrapCount.h5     \b\b\b\b  8%\b\b\b\b 16%\b\b\b\b 25%\b\b\b\b 33%\b\b\b\b 42%\b\b\b\b 50%\b\b\b\b 59%\b\b\b\b 67%\b\b\b\b 76%\b\b\b\b 84%\b\b\b\b 89%\b\b\b\b\b  OK \n",
            "Adding    /content/drive/MyDrive/BadaniaMchtr/Results/UNetResNet5_resc_wrpd_11-13-2021_16-31-46_SOFTMAX_WrapCount/cfg/UNetResNet5_resc_wrpd_11-13-2021_16-31-46_SOFTMAX_WrapCount.txt     \b\b\b\b 89%\b\b\b\b\b  OK \n",
            "Adding    /content/drive/MyDrive/BadaniaMchtr/Results/UNetResNet5_resc_wrpd_11-13-2021_16-31-46_SOFTMAX_WrapCount/csv/UNetResNet5_resc_wrpd_11-13-2021_16-31-46_SOFTMAX_WrapCount.csv     \b\b\b\b 89%\b\b\b\b\b  OK \n",
            "Adding    /content/drive/MyDrive/BadaniaMchtr/Results/UNetResNet5_resc_wrpd_11-13-2021_16-31-46_SOFTMAX_WrapCount/logs/train/events.out.tfevents.1636821260.661ba0573690.74.0.v2     \b\b\b\b 93%\b\b\b\b\b  OK \n",
            "Adding    /content/drive/MyDrive/BadaniaMchtr/Results/UNetResNet5_resc_wrpd_11-13-2021_16-31-46_SOFTMAX_WrapCount/logs/validation/events.out.tfevents.1636821491.661ba0573690.74.1.v2     \b\b\b\b 93%\b\b\b\b\b  OK \n",
            "Adding    /content/drive/MyDrive/BadaniaMchtr/Results/UNetResNet5_resc_wrpd_11-13-2021_16-31-46_SOFTMAX_WrapCount/UNetResNet5_resc_wrpd_11-13-2021_16-31-46_SOFTMAX_WrapCountmodel_'LR'.jpg     \b\b\b\b 95%\b\b\b\b\b  OK \n",
            "Adding    /content/drive/MyDrive/BadaniaMchtr/Results/UNetResNet5_resc_wrpd_11-13-2021_16-31-46_SOFTMAX_WrapCount/UNetResNet5_resc_wrpd_11-13-2021_16-31-46_SOFTMAX_WrapCountmodel_'TB'.jpg     \b\b\b\b 99%\b\b\b\b\b  OK \n",
            "Adding    /content/drive/MyDrive/BadaniaMchtr/Results/UNetResNet5_resc_wrpd_11-13-2021_16-31-46_SOFTMAX_WrapCount/loss_UNetResNet5_resc_wrpd_11-13-2021_16-31-46_SOFTMAX_WrapCount.jpg     \b\b\b\b 99%\b\b\b\b\b  OK \n",
            "Adding    /content/drive/MyDrive/BadaniaMchtr/Results/UNetResNet5_resc_wrpd_11-13-2021_16-31-46_SOFTMAX_WrapCount/acc_UNetResNet5_resc_wrpd_11-13-2021_16-31-46_SOFTMAX_WrapCount.jpg     \b\b\b\b 99%\b\b\b\b\b  OK \n",
            "Adding    /content/drive/MyDrive/BadaniaMchtr/Results/UNetResNet5_resc_wrpd_11-13-2021_16-31-46_SOFTMAX_WrapCount/logs/train     \b\b\b\b\b  OK \n",
            "Adding    /content/drive/MyDrive/BadaniaMchtr/Results/UNetResNet5_resc_wrpd_11-13-2021_16-31-46_SOFTMAX_WrapCount/logs/validation     \b\b\b\b\b  OK \n",
            "Adding    /content/drive/MyDrive/BadaniaMchtr/Results/UNetResNet5_resc_wrpd_11-13-2021_16-31-46_SOFTMAX_WrapCount/model     \b\b\b\b\b  OK \n",
            "Adding    /content/drive/MyDrive/BadaniaMchtr/Results/UNetResNet5_resc_wrpd_11-13-2021_16-31-46_SOFTMAX_WrapCount/cfg     \b\b\b\b\b  OK \n",
            "Adding    /content/drive/MyDrive/BadaniaMchtr/Results/UNetResNet5_resc_wrpd_11-13-2021_16-31-46_SOFTMAX_WrapCount/csv     \b\b\b\b\b  OK \n",
            "Adding    /content/drive/MyDrive/BadaniaMchtr/Results/UNetResNet5_resc_wrpd_11-13-2021_16-31-46_SOFTMAX_WrapCount/logs     \b\b\b\b\b  OK \n",
            "Adding    /content/drive/MyDrive/BadaniaMchtr/Results/UNetResNet5_resc_wrpd_11-13-2021_16-31-46_SOFTMAX_WrapCount     \b\b\b\b\b  OK \n",
            "Done\n"
          ]
        },
        {
          "output_type": "display_data",
          "data": {
            "application/javascript": [
              "\n",
              "    async function download(id, filename, size) {\n",
              "      if (!google.colab.kernel.accessAllowed) {\n",
              "        return;\n",
              "      }\n",
              "      const div = document.createElement('div');\n",
              "      const label = document.createElement('label');\n",
              "      label.textContent = `Downloading \"${filename}\": `;\n",
              "      div.appendChild(label);\n",
              "      const progress = document.createElement('progress');\n",
              "      progress.max = size;\n",
              "      div.appendChild(progress);\n",
              "      document.body.appendChild(div);\n",
              "\n",
              "      const buffers = [];\n",
              "      let downloaded = 0;\n",
              "\n",
              "      const channel = await google.colab.kernel.comms.open(id);\n",
              "      // Send a message to notify the kernel that we're ready.\n",
              "      channel.send({})\n",
              "\n",
              "      for await (const message of channel.messages) {\n",
              "        // Send a message to notify the kernel that we're ready.\n",
              "        channel.send({})\n",
              "        if (message.buffers) {\n",
              "          for (const buffer of message.buffers) {\n",
              "            buffers.push(buffer);\n",
              "            downloaded += buffer.byteLength;\n",
              "            progress.value = downloaded;\n",
              "          }\n",
              "        }\n",
              "      }\n",
              "      const blob = new Blob(buffers, {type: 'application/binary'});\n",
              "      const a = document.createElement('a');\n",
              "      a.href = window.URL.createObjectURL(blob);\n",
              "      a.download = filename;\n",
              "      div.appendChild(a);\n",
              "      a.click();\n",
              "      div.remove();\n",
              "    }\n",
              "  "
            ],
            "text/plain": [
              "<IPython.core.display.Javascript object>"
            ]
          },
          "metadata": {}
        },
        {
          "output_type": "display_data",
          "data": {
            "application/javascript": [
              "download(\"download_7e09ad29-1c18-4280-a86d-eb155a689316\", \"UNetResNet5_resc_wrpd_11-13-2021_16-31-46_SOFTMAX_WrapCount_Results.rar\", 41751410)"
            ],
            "text/plain": [
              "<IPython.core.display.Javascript object>"
            ]
          },
          "metadata": {}
        }
      ]
    },
    {
      "cell_type": "code",
      "metadata": {
        "id": "tX3CACHIvv1L"
      },
      "source": [
        ""
      ],
      "execution_count": null,
      "outputs": []
    },
    {
      "cell_type": "code",
      "metadata": {
        "id": "Twx05D5Qvy8E"
      },
      "source": [
        ""
      ],
      "execution_count": null,
      "outputs": []
    }
  ]
}