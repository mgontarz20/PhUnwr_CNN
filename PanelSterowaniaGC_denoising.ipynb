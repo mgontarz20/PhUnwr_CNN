{
  "nbformat": 4,
  "nbformat_minor": 0,
  "metadata": {
    "colab": {
      "name": "PanelSterowaniaGC_denoising.ipynb",
      "provenance": [],
      "collapsed_sections": [],
      "mount_file_id": "https://gist.github.com/mgontarz20/2bb47ef762246b9ccadc208ec73dc1f5#file-panelsterowaniagc-ipynb",
      "authorship_tag": "ABX9TyNdb0B4qymmRsXh7/ytZcvO",
      "include_colab_link": true
    },
    "kernelspec": {
      "name": "python3",
      "display_name": "Python 3"
    },
    "language_info": {
      "name": "python"
    },
    "accelerator": "GPU"
  },
  "cells": [
    {
      "cell_type": "markdown",
      "metadata": {
        "id": "view-in-github",
        "colab_type": "text"
      },
      "source": [
        "<a href=\"https://colab.research.google.com/github/mgontarz20/PhUnwr_CNN/blob/master/PanelSterowaniaGC_denoising.ipynb\" target=\"_parent\"><img src=\"https://colab.research.google.com/assets/colab-badge.svg\" alt=\"Open In Colab\"/></a>"
      ]
    },
    {
      "cell_type": "markdown",
      "metadata": {
        "id": "gPD8zIwh3rl9"
      },
      "source": [
        "# Library Imports\n"
      ]
    },
    {
      "cell_type": "code",
      "metadata": {
        "id": "gNHDQWfK3xvG"
      },
      "source": [
        "import sys\n",
        "sys.path.append('/content/drive/MyDrive/BadaniaMchtr')\n",
        "import numpy as np\n",
        "import os\n",
        "import tqdm\n",
        "from tqdm import tqdm\n",
        "from keras.losses import MeanSquaredError, SparseCategoricalCrossentropy\n",
        "from tensorflow.keras.utils import to_categorical\n",
        "from keras.utils.vis_utils import plot_model\n",
        "from keras.preprocessing.image import img_to_array, load_img\n",
        "from skimage.transform import resize\n",
        "from keras.metrics import SparseCategoricalAccuracy\n",
        "from sklearn.model_selection import train_test_split\n",
        "from keras.layers import Input\n",
        "from tensorflow.keras.optimizers import Adam\n",
        "from keras.callbacks import ModelCheckpoint, EarlyStopping, ReduceLROnPlateau, TensorBoard,CSVLogger,LambdaCallback\n",
        "import matplotlib.pyplot as plt\n",
        "from tensorflow import keras\n",
        "from datetime import datetime\n",
        "from keras.models import load_model\n",
        "from keras import backend as K\n",
        "import tensorflow as tf\n",
        "import json\n"
      ],
      "execution_count": null,
      "outputs": []
    },
    {
      "cell_type": "code",
      "source": [
        ""
      ],
      "metadata": {
        "id": "r5ssG9t2TFM9"
      },
      "execution_count": null,
      "outputs": []
    },
    {
      "cell_type": "markdown",
      "metadata": {
        "id": "Vi6UNaVE3qjk"
      },
      "source": [
        "#User Imports"
      ]
    },
    {
      "cell_type": "code",
      "metadata": {
        "id": "c_ZJYDAn32cm"
      },
      "source": [
        "import genConfig\n",
        "import plotter\n",
        "import UNetResNet_4lvl_toColab\n",
        "import cleanup"
      ],
      "execution_count": null,
      "outputs": []
    },
    {
      "cell_type": "markdown",
      "metadata": {
        "id": "uQU1P43a38mS"
      },
      "source": [
        "# Definition of hyperparameters"
      ]
    },
    {
      "cell_type": "code",
      "metadata": {
        "id": "FrN7Udf1C20G"
      },
      "source": [
        "norm = False\n",
        "cont = False"
      ],
      "execution_count": null,
      "outputs": []
    },
    {
      "cell_type": "code",
      "metadata": {
        "id": "2f0z9tLM4CdM"
      },
      "source": [
        "test_size = 0.2\n",
        "random_state = 14\n",
        "n_filters = 16\n",
        "stop_patience = 18\n",
        "batch_size = 32\n",
        "epoch_limit = 200\n",
        "\n",
        "normstr=\"\"\n",
        "if norm:\n",
        "    coeff = (2*np.pi)\n",
        "    normstr = \"norm_2pi\"\n",
        "activation_function = 'relu'\n",
        "kernel_regularizer = 'l2'\n",
        "state = 'new'\n",
        "metrics = ['accuracy']\n",
        "if cont:\n",
        "  state = \"continued\""
      ],
      "execution_count": null,
      "outputs": []
    },
    {
      "cell_type": "markdown",
      "metadata": {
        "id": "qOUKqSY44I4D"
      },
      "source": [
        "#Name definition\n",
        "\n"
      ]
    },
    {
      "cell_type": "code",
      "metadata": {
        "id": "mJiQJekx4LCN"
      },
      "source": [
        "date = datetime.now().strftime(\"%m-%d-%Y_%H-%M-%S\")\n",
        "root = '/content/drive/MyDrive/BadaniaMchtr/'\n",
        "pathtoDataSet = f\"{root}Datasets/\"\n",
        "dataset = \"dataset3_10k\"\n",
        "type1 = \"resc_wrpd\"\n",
        "type2 = \"wrpd_count\"\n",
        "comment = \"wrpCount\"\n",
        "list_to_name = []\n",
        "network = 'UNet4'\n",
        "list_to_name.append(network)\n",
        "list_to_name.append(str(date))\n",
        "list_to_name.append(comment)\n"
      ],
      "execution_count": null,
      "outputs": []
    },
    {
      "cell_type": "markdown",
      "metadata": {
        "id": "qD8px2aI42vM"
      },
      "source": [
        "#Importing Images"
      ]
    },
    {
      "cell_type": "code",
      "metadata": {
        "id": "rUBnSaBRZZTY",
        "colab": {
          "base_uri": "https://localhost:8080/"
        },
        "outputId": "094c453e-97ab-45a7-8fad-c33018dbf7dd"
      },
      "source": [
        "\n",
        "if norm:\n",
        "  X = np.load(f\"{root}Datasets/X_{dataset}.npy\")/coeff\n",
        "  list_to_name.append(normstr)\n",
        "else:\n",
        "  X = np.load(f\"{root}Datasets/X_{dataset}.npy\")\n",
        "\n",
        "y = np.load(f\"{root}Datasets/w_{dataset}.npy\").astype(np.uint8)\n",
        "\n",
        "num_classes = int((np.amax(y) - np.amin(y)) +1)\n",
        "list_to_name.append(str(num_classes))\n",
        "\n",
        "print(X.shape, y.shape)\n",
        "print(X.dtype, y.dtype)\n",
        "print(num_classes)\n",
        "if kernel_regularizer:\n",
        "    list_to_name.append(f\"{kernel_regularizer}Reg\")\n",
        "    \n",
        "list_to_name.append(state)"
      ],
      "execution_count": null,
      "outputs": [
        {
          "output_type": "stream",
          "name": "stdout",
          "text": [
            "(10000, 256, 256, 1) (10000, 256, 256, 1)\n",
            "float32 uint8\n",
            "12\n"
          ]
        }
      ]
    },
    {
      "cell_type": "code",
      "metadata": {
        "id": "wYaNW1NkQCt-",
        "colab": {
          "base_uri": "https://localhost:8080/"
        },
        "outputId": "406a90e4-a5ac-4179-b7a8-c5c5a89744c1"
      },
      "source": [
        "name = \"_\".join(list_to_name)\n",
        "\n",
        "print(name)"
      ],
      "execution_count": null,
      "outputs": [
        {
          "output_type": "stream",
          "name": "stdout",
          "text": [
            "UNet5_11-30-2021_13-32-43_wrpCount_12_l2Reg_new\n"
          ]
        }
      ]
    },
    {
      "cell_type": "code",
      "metadata": {
        "id": "Axq9IlIA497E"
      },
      "source": [
        ""
      ],
      "execution_count": null,
      "outputs": []
    },
    {
      "cell_type": "markdown",
      "metadata": {
        "id": "WMeBrbF_5FEK"
      },
      "source": [
        "# Custom Functions (Callbacks, Loss)"
      ]
    },
    {
      "cell_type": "code",
      "metadata": {
        "id": "w0k1FAKY5Q1G"
      },
      "source": [
        ""
      ],
      "execution_count": null,
      "outputs": []
    },
    {
      "cell_type": "code",
      "metadata": {
        "id": "dIHo3Mbi5Opr"
      },
      "source": [
        "callbacks = [\n",
        "    EarlyStopping(patience=stop_patience, verbose=1),\n",
        "    ReduceLROnPlateau(factor=0.1, patience=10, min_lr=0.0000001, verbose=1),\n",
        "    ModelCheckpoint(f'{root}Results/{name}/model/{name}.h5', verbose=1, save_best_only=True),\n",
        "    #Tensordash(ModelName=f\"{name}\", email='mgontarz15@gmail.com', password='dupadupa'),\n",
        "    TensorBoard(log_dir=f\"{root}Results/{name}/logs\", write_graph=True, write_images= True, update_freq=5),\n",
        "    CSVLogger(f\"{root}Results/{name}/csv/{name}.csv\"),\n",
        "    #json_logging_callback,\n",
        "            ]"
      ],
      "execution_count": null,
      "outputs": []
    },
    {
      "cell_type": "markdown",
      "metadata": {
        "id": "2FOZ67GT4ZeA"
      },
      "source": [
        "# Path Definition\n",
        "# Folder Generation"
      ]
    },
    {
      "cell_type": "code",
      "metadata": {
        "id": "pBL4_0_l4fDV",
        "colab": {
          "base_uri": "https://localhost:8080/"
        },
        "outputId": "e70ec30e-b3cc-4d21-99a7-8f26636fdde8"
      },
      "source": [
        "\n",
        "cleanup.clearEmptyDirectories(\"/content/drive/MyDrive/BadaniaMchtr/Results\")\n",
        "os.makedirs(f'{root}Results/{name}', exist_ok=True)\n",
        "os.makedirs(f'{root}Results/{name}/model', exist_ok=True)\n",
        "os.makedirs(f'{root}Results/{name}/cfg', exist_ok=True)\n",
        "os.makedirs(f'{root}Results/{name}/csv', exist_ok=True)\n",
        "os.makedirs(f'{root}Results/{name}/logs', exist_ok=True)\n",
        "cfg_dir = f'{root}Results/{name}/cfg'\n",
        "\n",
        "genConfig.write_cfg(cfg_dir, name, 'w', type_input = type1, type_output= type2, dataset = dataset, classes = num_classes, norm = norm)\n",
        "\n",
        "del type1\n",
        "del type2\n",
        "del dataset\n",
        "\n",
        "metrics = ['accuracy']"
      ],
      "execution_count": null,
      "outputs": [
        {
          "output_type": "stream",
          "name": "stdout",
          "text": [
            "Cleaning up results directory\n",
            "\n",
            "No folders removed!\n"
          ]
        }
      ]
    },
    {
      "cell_type": "markdown",
      "metadata": {
        "id": "rxPWeH5X5dIp"
      },
      "source": [
        "# Train Test Splitting\n"
      ]
    },
    {
      "cell_type": "code",
      "metadata": {
        "id": "XOvcK16V5fEf",
        "colab": {
          "base_uri": "https://localhost:8080/"
        },
        "outputId": "f95f076b-539b-4fba-a211-bafb3b8ac15c"
      },
      "source": [
        "X_train, X_valid, y_train, y_valid = train_test_split(X, y, test_size=test_size, random_state=random_state)\n",
        "print(X_train.shape, X_valid.shape, y_train.shape, y_valid.shape)\n",
        "del X\n",
        "del y"
      ],
      "execution_count": null,
      "outputs": [
        {
          "output_type": "stream",
          "name": "stdout",
          "text": [
            "(8000, 256, 256, 1) (2000, 256, 256, 1) (8000, 256, 256, 1) (2000, 256, 256, 1)\n"
          ]
        }
      ]
    },
    {
      "cell_type": "code",
      "metadata": {
        "id": "a3uQuk5k5i2M"
      },
      "source": [
        "genConfig.write_cfg(cfg_dir, name, \"a\", test_size = test_size, random_state = random_state)\n",
        "del test_size\n",
        "del random_state"
      ],
      "execution_count": null,
      "outputs": []
    },
    {
      "cell_type": "markdown",
      "metadata": {
        "id": "X-vmgtPj5lQj"
      },
      "source": [
        "#Model Loading and Initialization"
      ]
    },
    {
      "cell_type": "code",
      "metadata": {
        "id": "vfjkcFwi5oDf",
        "colab": {
          "base_uri": "https://localhost:8080/"
        },
        "outputId": "28887589-4d01-4c2b-d9e0-f5be0a5cbf86"
      },
      "source": [
        "input_img = Input((256, 256, 1), name='img')\n",
        "model = UNetResNet_4lvl_toColab.get_unet(input_img, num_classes, kernel_regularizer = kernel_regularizer)\n",
        "#model = load_model(\"/content/drive/MyDrive/BadaniaMchtr/Results/UNetResNet5_resc_wrpd_11-20-2021_15-12-28_SOFTMAX_WrapCount_Regularization_12/model/UNetResNet5_resc_wrpd_11-20-2021_15-12-28_SOFTMAX_WrapCount_Regularization_12.h5\")\n",
        "model.compile(optimizer=Adam(learning_rate=0.001, epsilon=1e-07), loss=SparseCategoricalCrossentropy(),  metrics=metrics)\n",
        "model.summary()"
      ],
      "execution_count": null,
      "outputs": [
        {
          "output_type": "stream",
          "name": "stdout",
          "text": [
            "Model: \"model_1\"\n",
            "__________________________________________________________________________________________________\n",
            " Layer (type)                   Output Shape         Param #     Connected to                     \n",
            "==================================================================================================\n",
            " img (InputLayer)               [(None, 256, 256, 1  0           []                               \n",
            "                                )]                                                                \n",
            "                                                                                                  \n",
            " conv2d_37 (Conv2D)             (None, 256, 256, 8)  80          ['img[0][0]']                    \n",
            "                                                                                                  \n",
            " batch_normalization_36 (BatchN  (None, 256, 256, 8)  32         ['conv2d_37[0][0]']              \n",
            " ormalization)                                                                                    \n",
            "                                                                                                  \n",
            " activation_36 (Activation)     (None, 256, 256, 8)  0           ['batch_normalization_36[0][0]'] \n",
            "                                                                                                  \n",
            " conv2d_38 (Conv2D)             (None, 256, 256, 8)  584         ['activation_36[0][0]']          \n",
            "                                                                                                  \n",
            " batch_normalization_37 (BatchN  (None, 256, 256, 8)  32         ['conv2d_38[0][0]']              \n",
            " ormalization)                                                                                    \n",
            "                                                                                                  \n",
            " activation_37 (Activation)     (None, 256, 256, 8)  0           ['batch_normalization_37[0][0]'] \n",
            "                                                                                                  \n",
            " conv2d_39 (Conv2D)             (None, 256, 256, 8)  584         ['activation_37[0][0]']          \n",
            "                                                                                                  \n",
            " batch_normalization_38 (BatchN  (None, 256, 256, 8)  32         ['conv2d_39[0][0]']              \n",
            " ormalization)                                                                                    \n",
            "                                                                                                  \n",
            " activation_38 (Activation)     (None, 256, 256, 8)  0           ['batch_normalization_38[0][0]'] \n",
            "                                                                                                  \n",
            " add_9 (Add)                    (None, 256, 256, 8)  0           ['activation_36[0][0]',          \n",
            "                                                                  'activation_38[0][0]']          \n",
            "                                                                                                  \n",
            " conv2d_40 (Conv2D)             (None, 256, 256, 8)  584         ['add_9[0][0]']                  \n",
            "                                                                                                  \n",
            " batch_normalization_39 (BatchN  (None, 256, 256, 8)  32         ['conv2d_40[0][0]']              \n",
            " ormalization)                                                                                    \n",
            "                                                                                                  \n",
            " activation_39 (Activation)     (None, 256, 256, 8)  0           ['batch_normalization_39[0][0]'] \n",
            "                                                                                                  \n",
            " max_pooling2d_4 (MaxPooling2D)  (None, 128, 128, 8)  0          ['activation_39[0][0]']          \n",
            "                                                                                                  \n",
            " conv2d_41 (Conv2D)             (None, 128, 128, 16  1168        ['max_pooling2d_4[0][0]']        \n",
            "                                )                                                                 \n",
            "                                                                                                  \n",
            " batch_normalization_40 (BatchN  (None, 128, 128, 16  64         ['conv2d_41[0][0]']              \n",
            " ormalization)                  )                                                                 \n",
            "                                                                                                  \n",
            " activation_40 (Activation)     (None, 128, 128, 16  0           ['batch_normalization_40[0][0]'] \n",
            "                                )                                                                 \n",
            "                                                                                                  \n",
            " conv2d_42 (Conv2D)             (None, 128, 128, 16  2320        ['activation_40[0][0]']          \n",
            "                                )                                                                 \n",
            "                                                                                                  \n",
            " batch_normalization_41 (BatchN  (None, 128, 128, 16  64         ['conv2d_42[0][0]']              \n",
            " ormalization)                  )                                                                 \n",
            "                                                                                                  \n",
            " activation_41 (Activation)     (None, 128, 128, 16  0           ['batch_normalization_41[0][0]'] \n",
            "                                )                                                                 \n",
            "                                                                                                  \n",
            " conv2d_43 (Conv2D)             (None, 128, 128, 16  2320        ['activation_41[0][0]']          \n",
            "                                )                                                                 \n",
            "                                                                                                  \n",
            " batch_normalization_42 (BatchN  (None, 128, 128, 16  64         ['conv2d_43[0][0]']              \n",
            " ormalization)                  )                                                                 \n",
            "                                                                                                  \n",
            " activation_42 (Activation)     (None, 128, 128, 16  0           ['batch_normalization_42[0][0]'] \n",
            "                                )                                                                 \n",
            "                                                                                                  \n",
            " add_10 (Add)                   (None, 128, 128, 16  0           ['activation_40[0][0]',          \n",
            "                                )                                 'activation_42[0][0]']          \n",
            "                                                                                                  \n",
            " conv2d_44 (Conv2D)             (None, 128, 128, 16  2320        ['add_10[0][0]']                 \n",
            "                                )                                                                 \n",
            "                                                                                                  \n",
            " batch_normalization_43 (BatchN  (None, 128, 128, 16  64         ['conv2d_44[0][0]']              \n",
            " ormalization)                  )                                                                 \n",
            "                                                                                                  \n",
            " activation_43 (Activation)     (None, 128, 128, 16  0           ['batch_normalization_43[0][0]'] \n",
            "                                )                                                                 \n",
            "                                                                                                  \n",
            " max_pooling2d_5 (MaxPooling2D)  (None, 64, 64, 16)  0           ['activation_43[0][0]']          \n",
            "                                                                                                  \n",
            " conv2d_45 (Conv2D)             (None, 64, 64, 32)   4640        ['max_pooling2d_5[0][0]']        \n",
            "                                                                                                  \n",
            " batch_normalization_44 (BatchN  (None, 64, 64, 32)  128         ['conv2d_45[0][0]']              \n",
            " ormalization)                                                                                    \n",
            "                                                                                                  \n",
            " activation_44 (Activation)     (None, 64, 64, 32)   0           ['batch_normalization_44[0][0]'] \n",
            "                                                                                                  \n",
            " conv2d_46 (Conv2D)             (None, 64, 64, 32)   9248        ['activation_44[0][0]']          \n",
            "                                                                                                  \n",
            " batch_normalization_45 (BatchN  (None, 64, 64, 32)  128         ['conv2d_46[0][0]']              \n",
            " ormalization)                                                                                    \n",
            "                                                                                                  \n",
            " activation_45 (Activation)     (None, 64, 64, 32)   0           ['batch_normalization_45[0][0]'] \n",
            "                                                                                                  \n",
            " conv2d_47 (Conv2D)             (None, 64, 64, 32)   9248        ['activation_45[0][0]']          \n",
            "                                                                                                  \n",
            " batch_normalization_46 (BatchN  (None, 64, 64, 32)  128         ['conv2d_47[0][0]']              \n",
            " ormalization)                                                                                    \n",
            "                                                                                                  \n",
            " activation_46 (Activation)     (None, 64, 64, 32)   0           ['batch_normalization_46[0][0]'] \n",
            "                                                                                                  \n",
            " add_11 (Add)                   (None, 64, 64, 32)   0           ['activation_44[0][0]',          \n",
            "                                                                  'activation_46[0][0]']          \n",
            "                                                                                                  \n",
            " conv2d_48 (Conv2D)             (None, 64, 64, 32)   9248        ['add_11[0][0]']                 \n",
            "                                                                                                  \n",
            " batch_normalization_47 (BatchN  (None, 64, 64, 32)  128         ['conv2d_48[0][0]']              \n",
            " ormalization)                                                                                    \n",
            "                                                                                                  \n",
            " activation_47 (Activation)     (None, 64, 64, 32)   0           ['batch_normalization_47[0][0]'] \n",
            "                                                                                                  \n",
            " max_pooling2d_6 (MaxPooling2D)  (None, 32, 32, 32)  0           ['activation_47[0][0]']          \n",
            "                                                                                                  \n",
            " conv2d_49 (Conv2D)             (None, 32, 32, 64)   18496       ['max_pooling2d_6[0][0]']        \n",
            "                                                                                                  \n",
            " batch_normalization_48 (BatchN  (None, 32, 32, 64)  256         ['conv2d_49[0][0]']              \n",
            " ormalization)                                                                                    \n",
            "                                                                                                  \n",
            " activation_48 (Activation)     (None, 32, 32, 64)   0           ['batch_normalization_48[0][0]'] \n",
            "                                                                                                  \n",
            " conv2d_50 (Conv2D)             (None, 32, 32, 64)   36928       ['activation_48[0][0]']          \n",
            "                                                                                                  \n",
            " batch_normalization_49 (BatchN  (None, 32, 32, 64)  256         ['conv2d_50[0][0]']              \n",
            " ormalization)                                                                                    \n",
            "                                                                                                  \n",
            " activation_49 (Activation)     (None, 32, 32, 64)   0           ['batch_normalization_49[0][0]'] \n",
            "                                                                                                  \n",
            " conv2d_51 (Conv2D)             (None, 32, 32, 64)   36928       ['activation_49[0][0]']          \n",
            "                                                                                                  \n",
            " batch_normalization_50 (BatchN  (None, 32, 32, 64)  256         ['conv2d_51[0][0]']              \n",
            " ormalization)                                                                                    \n",
            "                                                                                                  \n",
            " activation_50 (Activation)     (None, 32, 32, 64)   0           ['batch_normalization_50[0][0]'] \n",
            "                                                                                                  \n",
            " add_12 (Add)                   (None, 32, 32, 64)   0           ['activation_48[0][0]',          \n",
            "                                                                  'activation_50[0][0]']          \n",
            "                                                                                                  \n",
            " conv2d_52 (Conv2D)             (None, 32, 32, 64)   36928       ['add_12[0][0]']                 \n",
            "                                                                                                  \n",
            " batch_normalization_51 (BatchN  (None, 32, 32, 64)  256         ['conv2d_52[0][0]']              \n",
            " ormalization)                                                                                    \n",
            "                                                                                                  \n",
            " activation_51 (Activation)     (None, 32, 32, 64)   0           ['batch_normalization_51[0][0]'] \n",
            "                                                                                                  \n",
            " max_pooling2d_7 (MaxPooling2D)  (None, 16, 16, 64)  0           ['activation_51[0][0]']          \n",
            "                                                                                                  \n",
            " conv2d_53 (Conv2D)             (None, 16, 16, 128)  73856       ['max_pooling2d_7[0][0]']        \n",
            "                                                                                                  \n",
            " batch_normalization_52 (BatchN  (None, 16, 16, 128)  512        ['conv2d_53[0][0]']              \n",
            " ormalization)                                                                                    \n",
            "                                                                                                  \n",
            " activation_52 (Activation)     (None, 16, 16, 128)  0           ['batch_normalization_52[0][0]'] \n",
            "                                                                                                  \n",
            " conv2d_54 (Conv2D)             (None, 16, 16, 128)  147584      ['activation_52[0][0]']          \n",
            "                                                                                                  \n",
            " batch_normalization_53 (BatchN  (None, 16, 16, 128)  512        ['conv2d_54[0][0]']              \n",
            " ormalization)                                                                                    \n",
            "                                                                                                  \n",
            " activation_53 (Activation)     (None, 16, 16, 128)  0           ['batch_normalization_53[0][0]'] \n",
            "                                                                                                  \n",
            " conv2d_55 (Conv2D)             (None, 16, 16, 128)  147584      ['activation_53[0][0]']          \n",
            "                                                                                                  \n",
            " batch_normalization_54 (BatchN  (None, 16, 16, 128)  512        ['conv2d_55[0][0]']              \n",
            " ormalization)                                                                                    \n",
            "                                                                                                  \n",
            " activation_54 (Activation)     (None, 16, 16, 128)  0           ['batch_normalization_54[0][0]'] \n",
            "                                                                                                  \n",
            " add_13 (Add)                   (None, 16, 16, 128)  0           ['activation_52[0][0]',          \n",
            "                                                                  'activation_54[0][0]']          \n",
            "                                                                                                  \n",
            " conv2d_56 (Conv2D)             (None, 16, 16, 128)  147584      ['add_13[0][0]']                 \n",
            "                                                                                                  \n",
            " batch_normalization_55 (BatchN  (None, 16, 16, 128)  512        ['conv2d_56[0][0]']              \n",
            " ormalization)                                                                                    \n",
            "                                                                                                  \n",
            " activation_55 (Activation)     (None, 16, 16, 128)  0           ['batch_normalization_55[0][0]'] \n",
            "                                                                                                  \n",
            " conv2d_transpose_4 (Conv2DTran  (None, 32, 32, 64)  204864      ['activation_55[0][0]']          \n",
            " spose)                                                                                           \n",
            "                                                                                                  \n",
            " concatenate_4 (Concatenate)    (None, 32, 32, 128)  0           ['conv2d_transpose_4[0][0]',     \n",
            "                                                                  'activation_51[0][0]']          \n",
            "                                                                                                  \n",
            " conv2d_57 (Conv2D)             (None, 32, 32, 64)   73792       ['concatenate_4[0][0]']          \n",
            "                                                                                                  \n",
            " batch_normalization_56 (BatchN  (None, 32, 32, 64)  256         ['conv2d_57[0][0]']              \n",
            " ormalization)                                                                                    \n",
            "                                                                                                  \n",
            " activation_56 (Activation)     (None, 32, 32, 64)   0           ['batch_normalization_56[0][0]'] \n",
            "                                                                                                  \n",
            " conv2d_58 (Conv2D)             (None, 32, 32, 64)   36928       ['activation_56[0][0]']          \n",
            "                                                                                                  \n",
            " batch_normalization_57 (BatchN  (None, 32, 32, 64)  256         ['conv2d_58[0][0]']              \n",
            " ormalization)                                                                                    \n",
            "                                                                                                  \n",
            " activation_57 (Activation)     (None, 32, 32, 64)   0           ['batch_normalization_57[0][0]'] \n",
            "                                                                                                  \n",
            " conv2d_59 (Conv2D)             (None, 32, 32, 64)   36928       ['activation_57[0][0]']          \n",
            "                                                                                                  \n",
            " batch_normalization_58 (BatchN  (None, 32, 32, 64)  256         ['conv2d_59[0][0]']              \n",
            " ormalization)                                                                                    \n",
            "                                                                                                  \n",
            " activation_58 (Activation)     (None, 32, 32, 64)   0           ['batch_normalization_58[0][0]'] \n",
            "                                                                                                  \n",
            " add_14 (Add)                   (None, 32, 32, 64)   0           ['activation_56[0][0]',          \n",
            "                                                                  'activation_58[0][0]']          \n",
            "                                                                                                  \n",
            " conv2d_60 (Conv2D)             (None, 32, 32, 64)   36928       ['add_14[0][0]']                 \n",
            "                                                                                                  \n",
            " batch_normalization_59 (BatchN  (None, 32, 32, 64)  256         ['conv2d_60[0][0]']              \n",
            " ormalization)                                                                                    \n",
            "                                                                                                  \n",
            " activation_59 (Activation)     (None, 32, 32, 64)   0           ['batch_normalization_59[0][0]'] \n",
            "                                                                                                  \n",
            " conv2d_transpose_5 (Conv2DTran  (None, 64, 64, 32)  51232       ['activation_59[0][0]']          \n",
            " spose)                                                                                           \n",
            "                                                                                                  \n",
            " concatenate_5 (Concatenate)    (None, 64, 64, 64)   0           ['conv2d_transpose_5[0][0]',     \n",
            "                                                                  'activation_47[0][0]']          \n",
            "                                                                                                  \n",
            " conv2d_61 (Conv2D)             (None, 64, 64, 32)   18464       ['concatenate_5[0][0]']          \n",
            "                                                                                                  \n",
            " batch_normalization_60 (BatchN  (None, 64, 64, 32)  128         ['conv2d_61[0][0]']              \n",
            " ormalization)                                                                                    \n",
            "                                                                                                  \n",
            " activation_60 (Activation)     (None, 64, 64, 32)   0           ['batch_normalization_60[0][0]'] \n",
            "                                                                                                  \n",
            " conv2d_62 (Conv2D)             (None, 64, 64, 32)   9248        ['activation_60[0][0]']          \n",
            "                                                                                                  \n",
            " batch_normalization_61 (BatchN  (None, 64, 64, 32)  128         ['conv2d_62[0][0]']              \n",
            " ormalization)                                                                                    \n",
            "                                                                                                  \n",
            " activation_61 (Activation)     (None, 64, 64, 32)   0           ['batch_normalization_61[0][0]'] \n",
            "                                                                                                  \n",
            " conv2d_63 (Conv2D)             (None, 64, 64, 32)   9248        ['activation_61[0][0]']          \n",
            "                                                                                                  \n",
            " batch_normalization_62 (BatchN  (None, 64, 64, 32)  128         ['conv2d_63[0][0]']              \n",
            " ormalization)                                                                                    \n",
            "                                                                                                  \n",
            " activation_62 (Activation)     (None, 64, 64, 32)   0           ['batch_normalization_62[0][0]'] \n",
            "                                                                                                  \n",
            " add_15 (Add)                   (None, 64, 64, 32)   0           ['activation_60[0][0]',          \n",
            "                                                                  'activation_62[0][0]']          \n",
            "                                                                                                  \n",
            " conv2d_64 (Conv2D)             (None, 64, 64, 32)   9248        ['add_15[0][0]']                 \n",
            "                                                                                                  \n",
            " batch_normalization_63 (BatchN  (None, 64, 64, 32)  128         ['conv2d_64[0][0]']              \n",
            " ormalization)                                                                                    \n",
            "                                                                                                  \n",
            " activation_63 (Activation)     (None, 64, 64, 32)   0           ['batch_normalization_63[0][0]'] \n",
            "                                                                                                  \n",
            " conv2d_transpose_6 (Conv2DTran  (None, 128, 128, 16  12816      ['activation_63[0][0]']          \n",
            " spose)                         )                                                                 \n",
            "                                                                                                  \n",
            " concatenate_6 (Concatenate)    (None, 128, 128, 32  0           ['conv2d_transpose_6[0][0]',     \n",
            "                                )                                 'activation_43[0][0]']          \n",
            "                                                                                                  \n",
            " conv2d_65 (Conv2D)             (None, 128, 128, 16  4624        ['concatenate_6[0][0]']          \n",
            "                                )                                                                 \n",
            "                                                                                                  \n",
            " batch_normalization_64 (BatchN  (None, 128, 128, 16  64         ['conv2d_65[0][0]']              \n",
            " ormalization)                  )                                                                 \n",
            "                                                                                                  \n",
            " activation_64 (Activation)     (None, 128, 128, 16  0           ['batch_normalization_64[0][0]'] \n",
            "                                )                                                                 \n",
            "                                                                                                  \n",
            " conv2d_66 (Conv2D)             (None, 128, 128, 16  2320        ['activation_64[0][0]']          \n",
            "                                )                                                                 \n",
            "                                                                                                  \n",
            " batch_normalization_65 (BatchN  (None, 128, 128, 16  64         ['conv2d_66[0][0]']              \n",
            " ormalization)                  )                                                                 \n",
            "                                                                                                  \n",
            " activation_65 (Activation)     (None, 128, 128, 16  0           ['batch_normalization_65[0][0]'] \n",
            "                                )                                                                 \n",
            "                                                                                                  \n",
            " conv2d_67 (Conv2D)             (None, 128, 128, 16  2320        ['activation_65[0][0]']          \n",
            "                                )                                                                 \n",
            "                                                                                                  \n",
            " batch_normalization_66 (BatchN  (None, 128, 128, 16  64         ['conv2d_67[0][0]']              \n",
            " ormalization)                  )                                                                 \n",
            "                                                                                                  \n",
            " activation_66 (Activation)     (None, 128, 128, 16  0           ['batch_normalization_66[0][0]'] \n",
            "                                )                                                                 \n",
            "                                                                                                  \n",
            " add_16 (Add)                   (None, 128, 128, 16  0           ['activation_64[0][0]',          \n",
            "                                )                                 'activation_66[0][0]']          \n",
            "                                                                                                  \n",
            " conv2d_68 (Conv2D)             (None, 128, 128, 16  2320        ['add_16[0][0]']                 \n",
            "                                )                                                                 \n",
            "                                                                                                  \n",
            " batch_normalization_67 (BatchN  (None, 128, 128, 16  64         ['conv2d_68[0][0]']              \n",
            " ormalization)                  )                                                                 \n",
            "                                                                                                  \n",
            " activation_67 (Activation)     (None, 128, 128, 16  0           ['batch_normalization_67[0][0]'] \n",
            "                                )                                                                 \n",
            "                                                                                                  \n",
            " conv2d_transpose_7 (Conv2DTran  (None, 256, 256, 8)  3208       ['activation_67[0][0]']          \n",
            " spose)                                                                                           \n",
            "                                                                                                  \n",
            " concatenate_7 (Concatenate)    (None, 256, 256, 16  0           ['conv2d_transpose_7[0][0]',     \n",
            "                                )                                 'activation_39[0][0]']          \n",
            "                                                                                                  \n",
            " conv2d_69 (Conv2D)             (None, 256, 256, 8)  1160        ['concatenate_7[0][0]']          \n",
            "                                                                                                  \n",
            " batch_normalization_68 (BatchN  (None, 256, 256, 8)  32         ['conv2d_69[0][0]']              \n",
            " ormalization)                                                                                    \n",
            "                                                                                                  \n",
            " activation_68 (Activation)     (None, 256, 256, 8)  0           ['batch_normalization_68[0][0]'] \n",
            "                                                                                                  \n",
            " conv2d_70 (Conv2D)             (None, 256, 256, 8)  584         ['activation_68[0][0]']          \n",
            "                                                                                                  \n",
            " batch_normalization_69 (BatchN  (None, 256, 256, 8)  32         ['conv2d_70[0][0]']              \n",
            " ormalization)                                                                                    \n",
            "                                                                                                  \n",
            " activation_69 (Activation)     (None, 256, 256, 8)  0           ['batch_normalization_69[0][0]'] \n",
            "                                                                                                  \n",
            " conv2d_71 (Conv2D)             (None, 256, 256, 8)  584         ['activation_69[0][0]']          \n",
            "                                                                                                  \n",
            " batch_normalization_70 (BatchN  (None, 256, 256, 8)  32         ['conv2d_71[0][0]']              \n",
            " ormalization)                                                                                    \n",
            "                                                                                                  \n",
            " activation_70 (Activation)     (None, 256, 256, 8)  0           ['batch_normalization_70[0][0]'] \n",
            "                                                                                                  \n",
            " add_17 (Add)                   (None, 256, 256, 8)  0           ['activation_68[0][0]',          \n",
            "                                                                  'activation_70[0][0]']          \n",
            "                                                                                                  \n",
            " conv2d_72 (Conv2D)             (None, 256, 256, 8)  584         ['add_17[0][0]']                 \n",
            "                                                                                                  \n",
            " batch_normalization_71 (BatchN  (None, 256, 256, 8)  32         ['conv2d_72[0][0]']              \n",
            " ormalization)                                                                                    \n",
            "                                                                                                  \n",
            " activation_71 (Activation)     (None, 256, 256, 8)  0           ['batch_normalization_71[0][0]'] \n",
            "                                                                                                  \n",
            " conv2d_73 (Conv2D)             (None, 256, 256, 10  90          ['activation_71[0][0]']          \n",
            "                                )                                                                 \n",
            "                                                                                                  \n",
            "==================================================================================================\n",
            "Total params: 1,211,610\n",
            "Trainable params: 1,208,666\n",
            "Non-trainable params: 2,944\n",
            "__________________________________________________________________________________________________\n"
          ]
        }
      ]
    },
    {
      "cell_type": "code",
      "metadata": {
        "id": "YO4fl63B5wwv"
      },
      "source": [
        "genConfig.write_cfg(cfg_dir,name, 'a', optimizer = \"Adam\", loss = comment, metrics = metrics, state = state, n_filters = n_filters)\n",
        "del n_filters\n",
        "del state\n"
      ],
      "execution_count": null,
      "outputs": []
    },
    {
      "cell_type": "markdown",
      "metadata": {
        "id": "KtJajT8U51Cb"
      },
      "source": [
        "#Model Fitting"
      ]
    },
    {
      "cell_type": "code",
      "metadata": {
        "id": "oY7mXctB53bG"
      },
      "source": [
        "start = datetime.now()\n",
        "results = model.fit(X_train, y_train, batch_size=batch_size, epochs=epoch_limit, callbacks=callbacks,\n",
        "                     validation_data=(X_valid, y_valid))\n",
        "\n",
        "stop = datetime.now()\n",
        "\n"
      ],
      "execution_count": null,
      "outputs": []
    },
    {
      "cell_type": "code",
      "metadata": {
        "id": "kaTS-Phl57JH"
      },
      "source": [
        "time = stop - start\n",
        "del stop\n",
        "del start"
      ],
      "execution_count": null,
      "outputs": []
    },
    {
      "cell_type": "code",
      "metadata": {
        "id": "fCiJUFED576J"
      },
      "source": [
        "genConfig.write_cfg(cfg_dir,name, \"a\", batch_size = batch_size, epoch_limit = epoch_limit, time = time, activation_function = activation_function)\n",
        "del epoch_limit\n",
        "del time"
      ],
      "execution_count": null,
      "outputs": []
    },
    {
      "cell_type": "markdown",
      "metadata": {
        "id": "8xBhPseU5_pP"
      },
      "source": [
        "#Plotting Results"
      ]
    },
    {
      "cell_type": "code",
      "metadata": {
        "id": "54rgm4sQ6B_0"
      },
      "source": [
        ""
      ],
      "execution_count": null,
      "outputs": []
    },
    {
      "cell_type": "code",
      "metadata": {
        "id": "IKlMp4fP6DvJ"
      },
      "source": [
        "plotter.plot_model_data(model, name, results, root)\n",
        "genConfig.write_cfg(cfg_dir,name, \"a\",  best_loss = np.min(results.history[\"val_loss\"]), for_epoch_loss = np.argmin(results.history[\"val_loss\"]), best_acc = np.max(results.history[\"val_accuracy\"]), for_epoch_acc = np.argmax(results.history[\"val_accuracy\"]))\n",
        "del results"
      ],
      "execution_count": null,
      "outputs": []
    },
    {
      "cell_type": "markdown",
      "metadata": {
        "id": "8aTb-t6i6GUQ"
      },
      "source": [
        "#Model Evaluation"
      ]
    },
    {
      "cell_type": "code",
      "metadata": {
        "id": "bmKoDryz6Iio"
      },
      "source": [
        "score = model.evaluate(X_train, y_train,\n",
        "                            batch_size=batch_size)\n",
        "labels = model.metrics_names\n",
        "\n",
        "header_train  = \"\\n-------TRAIN EVALUATION-------\"\n",
        "loss_list = []\n",
        "\n",
        "\n",
        "for i, loss in enumerate(labels):\n",
        "    loss_list.append(f\"| {loss} : {score[i]} |\")\n",
        "\n",
        "genConfig.write_cfg(cfg_dir,name, \"a\", _ = header_train, TRAIN_EVAL = \"\".join(loss_list))\n",
        "\n",
        "loss_list.clear()"
      ],
      "execution_count": null,
      "outputs": []
    },
    {
      "cell_type": "code",
      "metadata": {
        "id": "JUTlvV476MWx"
      },
      "source": [
        "score= model.evaluate(X_valid, y_valid,\n",
        "                            batch_size=batch_size)\n",
        "\n",
        "header_test = \"\\n-------TEST EVALUATION-------\"\n",
        "\n",
        "for i, loss in enumerate(labels):\n",
        "    loss_list.append(f\"| {loss} : {score[i]} |\")\n",
        "\n",
        "genConfig.write_cfg(cfg_dir,name, \"a\", _ = header_test, TEST_EVAL = \"\".join(loss_list))\n",
        "\n",
        "\n",
        "del score\n",
        "\n",
        "del header_test\n",
        "#del header_train\n",
        "\n",
        "#del labels"
      ],
      "execution_count": null,
      "outputs": []
    },
    {
      "cell_type": "code",
      "metadata": {
        "id": "d7gQ9g696PpS"
      },
      "source": [
        ""
      ],
      "execution_count": null,
      "outputs": []
    },
    {
      "cell_type": "code",
      "metadata": {
        "id": "axl_aAmXFmIn"
      },
      "source": [
        "!apt-get install rar"
      ],
      "execution_count": null,
      "outputs": []
    },
    {
      "cell_type": "code",
      "metadata": {
        "id": "UkBX7_-KplhS"
      },
      "source": [
        "# name = \"UNetResNet5lvl_resc_wrpd_10-14-2021_22-11-02_SSIMloss\"\n",
        "# !rar a '/content/drive/MyDrive/UNetResNet5_resc_wrpd_11-13-2021_16-31-46_SOFTMAX_WrapCount_Results' '/content/drive/MyDrive/BadaniaMchtr/Results/UNetResNet5_resc_wrpd_11-13-2021_16-31-46_SOFTMAX_WrapCount'\n",
        "# from google.colab import files\n",
        "# files.download(\"/content/drive/MyDrive/UNetResNet5_resc_wrpd_11-13-2021_16-31-46_SOFTMAX_WrapCount_Results.rar\")\n"
      ],
      "execution_count": null,
      "outputs": []
    },
    {
      "cell_type": "code",
      "metadata": {
        "id": "tX3CACHIvv1L"
      },
      "source": [
        ""
      ],
      "execution_count": null,
      "outputs": []
    },
    {
      "cell_type": "code",
      "metadata": {
        "id": "Twx05D5Qvy8E"
      },
      "source": [
        ""
      ],
      "execution_count": null,
      "outputs": []
    }
  ]
}